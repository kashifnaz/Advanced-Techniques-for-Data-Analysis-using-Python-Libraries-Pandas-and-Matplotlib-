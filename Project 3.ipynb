{
 "cells": [
  {
   "cell_type": "markdown",
   "metadata": {},
   "source": [
    "### Hello, welcome to another lesson on python and the data science libraries ( Numpy,Pandas and Matplotlib). This is another dummy dataset that i worked on as i learned and grow on this career path. I want you to connect deeply with these dataset and feel encouraged about what you're doing. We all do it a little poorly until we get better.That's why i share my journey and my growth process."
   ]
  },
  {
   "cell_type": "markdown",
   "metadata": {},
   "source": [
    "### In this very dataset, the data is the same as that of the last lesson. But the approach is about using advance techniques to achieve the same task while writing lesser lines of code to achieve the task. Also, Matplotlib Library for Data Visualization will be introduced in this lesson.\n",
    "\n",
    "### And to make it more interesting, you'll join 2 datasets together which you'll read from separate pages of this excel file which will be imported\n",
    "\n",
    "\n",
    "## So fasten your seatbelts and Let's Get Started !!!"
   ]
  },
  {
   "cell_type": "markdown",
   "metadata": {},
   "source": [
    "### The first step is to import the necessary libraries using standard convention. And this time you're going to import matplotlib. Then import the data and read some chunk of it\n",
    "\n",
    "#### Notice the line of code that reads \"%matplotlib inline\".\n",
    "\n",
    "#### This will ensure that everytime you write a command to plot, it'll be displayed without additional effort. Skipping this step will mean you have to type \"plt.show()\" everytime you make a plot.\n",
    "\n",
    "\n",
    "## So, save yourself some stress  !"
   ]
  },
  {
   "cell_type": "code",
   "execution_count": 1,
   "metadata": {},
   "outputs": [],
   "source": [
    "import numpy as np\n",
    "import pandas as pd\n",
    "import matplotlib.pyplot as plt\n",
    "%matplotlib inline"
   ]
  },
  {
   "cell_type": "code",
   "execution_count": 2,
   "metadata": {
    "scrolled": false
   },
   "outputs": [
    {
     "data": {
      "text/html": [
       "<div>\n",
       "<style scoped>\n",
       "    .dataframe tbody tr th:only-of-type {\n",
       "        vertical-align: middle;\n",
       "    }\n",
       "\n",
       "    .dataframe tbody tr th {\n",
       "        vertical-align: top;\n",
       "    }\n",
       "\n",
       "    .dataframe thead th {\n",
       "        text-align: right;\n",
       "    }\n",
       "</style>\n",
       "<table border=\"1\" class=\"dataframe\">\n",
       "  <thead>\n",
       "    <tr style=\"text-align: right;\">\n",
       "      <th></th>\n",
       "      <th>Unnamed: 0</th>\n",
       "      <th>Unnamed: 1</th>\n",
       "      <th>Unnamed: 2</th>\n",
       "      <th>Unnamed: 3</th>\n",
       "      <th>Unnamed: 4</th>\n",
       "      <th>Unnamed: 5</th>\n",
       "      <th>Unnamed: 6</th>\n",
       "      <th>Unnamed: 7</th>\n",
       "      <th>Unnamed: 8</th>\n",
       "      <th>Unnamed: 9</th>\n",
       "      <th>Unnamed: 10</th>\n",
       "    </tr>\n",
       "  </thead>\n",
       "  <tbody>\n",
       "    <tr>\n",
       "      <td>0</td>\n",
       "      <td>NaN</td>\n",
       "      <td>NaN</td>\n",
       "      <td>NaN</td>\n",
       "      <td>NaN</td>\n",
       "      <td>NaN</td>\n",
       "      <td>NaN</td>\n",
       "      <td>NaN</td>\n",
       "      <td>NaN</td>\n",
       "      <td>NaN</td>\n",
       "      <td>NaN</td>\n",
       "      <td>NaN</td>\n",
       "    </tr>\n",
       "    <tr>\n",
       "      <td>1</td>\n",
       "      <td>NaN</td>\n",
       "      <td>NaN</td>\n",
       "      <td>NaN</td>\n",
       "      <td>NaN</td>\n",
       "      <td>NaN</td>\n",
       "      <td>NaN</td>\n",
       "      <td>NaN</td>\n",
       "      <td>NaN</td>\n",
       "      <td>NaN</td>\n",
       "      <td>NaN</td>\n",
       "      <td>NaN</td>\n",
       "    </tr>\n",
       "    <tr>\n",
       "      <td>2</td>\n",
       "      <td>NaN</td>\n",
       "      <td>NaN</td>\n",
       "      <td>NaN</td>\n",
       "      <td>NaN</td>\n",
       "      <td>NaN</td>\n",
       "      <td>NaN</td>\n",
       "      <td>NaN</td>\n",
       "      <td>NaN</td>\n",
       "      <td>NaN</td>\n",
       "      <td>NaN</td>\n",
       "      <td>NaN</td>\n",
       "    </tr>\n",
       "    <tr>\n",
       "      <td>3</td>\n",
       "      <td>NaN</td>\n",
       "      <td>NaN</td>\n",
       "      <td>NaN</td>\n",
       "      <td>NaN</td>\n",
       "      <td>NaN</td>\n",
       "      <td>NaN</td>\n",
       "      <td>NaN</td>\n",
       "      <td>NaN</td>\n",
       "      <td>NaN</td>\n",
       "      <td>NaN</td>\n",
       "      <td>NaN</td>\n",
       "    </tr>\n",
       "    <tr>\n",
       "      <td>4</td>\n",
       "      <td>NaN</td>\n",
       "      <td>NaN</td>\n",
       "      <td>NaN</td>\n",
       "      <td>NaN</td>\n",
       "      <td>S/N</td>\n",
       "      <td>Name</td>\n",
       "      <td>Status</td>\n",
       "      <td>Amount Paid</td>\n",
       "      <td>T-shirt</td>\n",
       "      <td>NaN</td>\n",
       "      <td>Comments</td>\n",
       "    </tr>\n",
       "    <tr>\n",
       "      <td>5</td>\n",
       "      <td>NaN</td>\n",
       "      <td>NaN</td>\n",
       "      <td>NaN</td>\n",
       "      <td>NaN</td>\n",
       "      <td>NaN</td>\n",
       "      <td>NaN</td>\n",
       "      <td>NaN</td>\n",
       "      <td>NaN</td>\n",
       "      <td>Type</td>\n",
       "      <td>Amount</td>\n",
       "      <td>NaN</td>\n",
       "    </tr>\n",
       "    <tr>\n",
       "      <td>6</td>\n",
       "      <td>NaN</td>\n",
       "      <td>NaN</td>\n",
       "      <td>NaN</td>\n",
       "      <td>NaN</td>\n",
       "      <td>1</td>\n",
       "      <td>Victor T. Na'Allah</td>\n",
       "      <td>Member</td>\n",
       "      <td>12000</td>\n",
       "      <td>Long Sleeve</td>\n",
       "      <td>2500</td>\n",
       "      <td>NaN</td>\n",
       "    </tr>\n",
       "    <tr>\n",
       "      <td>7</td>\n",
       "      <td>NaN</td>\n",
       "      <td>NaN</td>\n",
       "      <td>NaN</td>\n",
       "      <td>NaN</td>\n",
       "      <td>2</td>\n",
       "      <td>Olajide Mattew</td>\n",
       "      <td>Member</td>\n",
       "      <td>12000</td>\n",
       "      <td>Long Sleeve</td>\n",
       "      <td>2500</td>\n",
       "      <td>NaN</td>\n",
       "    </tr>\n",
       "    <tr>\n",
       "      <td>8</td>\n",
       "      <td>NaN</td>\n",
       "      <td>NaN</td>\n",
       "      <td>NaN</td>\n",
       "      <td>NaN</td>\n",
       "      <td>3</td>\n",
       "      <td>Abel Modu Timothy</td>\n",
       "      <td>Member</td>\n",
       "      <td>12000</td>\n",
       "      <td>Long Sleeve</td>\n",
       "      <td>2500</td>\n",
       "      <td>NaN</td>\n",
       "    </tr>\n",
       "    <tr>\n",
       "      <td>9</td>\n",
       "      <td>NaN</td>\n",
       "      <td>NaN</td>\n",
       "      <td>NaN</td>\n",
       "      <td>NaN</td>\n",
       "      <td>4</td>\n",
       "      <td>Egwim Jones Udojuaku</td>\n",
       "      <td>Member</td>\n",
       "      <td>12000</td>\n",
       "      <td>Long Sleeve</td>\n",
       "      <td>2500</td>\n",
       "      <td>NaN</td>\n",
       "    </tr>\n",
       "  </tbody>\n",
       "</table>\n",
       "</div>"
      ],
      "text/plain": [
       "   Unnamed: 0  Unnamed: 1  Unnamed: 2  Unnamed: 3 Unnamed: 4  \\\n",
       "0         NaN         NaN         NaN         NaN        NaN   \n",
       "1         NaN         NaN         NaN         NaN        NaN   \n",
       "2         NaN         NaN         NaN         NaN        NaN   \n",
       "3         NaN         NaN         NaN         NaN        NaN   \n",
       "4         NaN         NaN         NaN         NaN        S/N   \n",
       "5         NaN         NaN         NaN         NaN        NaN   \n",
       "6         NaN         NaN         NaN         NaN          1   \n",
       "7         NaN         NaN         NaN         NaN          2   \n",
       "8         NaN         NaN         NaN         NaN          3   \n",
       "9         NaN         NaN         NaN         NaN          4   \n",
       "\n",
       "             Unnamed: 5 Unnamed: 6   Unnamed: 7   Unnamed: 8 Unnamed: 9  \\\n",
       "0                   NaN        NaN          NaN          NaN        NaN   \n",
       "1                   NaN        NaN          NaN          NaN        NaN   \n",
       "2                   NaN        NaN          NaN          NaN        NaN   \n",
       "3                   NaN        NaN          NaN          NaN        NaN   \n",
       "4                  Name     Status  Amount Paid      T-shirt        NaN   \n",
       "5                   NaN        NaN          NaN         Type     Amount   \n",
       "6    Victor T. Na'Allah     Member        12000  Long Sleeve       2500   \n",
       "7        Olajide Mattew     Member        12000  Long Sleeve       2500   \n",
       "8     Abel Modu Timothy     Member        12000  Long Sleeve       2500   \n",
       "9  Egwim Jones Udojuaku     Member        12000  Long Sleeve       2500   \n",
       "\n",
       "  Unnamed: 10  \n",
       "0         NaN  \n",
       "1         NaN  \n",
       "2         NaN  \n",
       "3         NaN  \n",
       "4    Comments  \n",
       "5         NaN  \n",
       "6         NaN  \n",
       "7         NaN  \n",
       "8         NaN  \n",
       "9         NaN  "
      ]
     },
     "execution_count": 2,
     "metadata": {},
     "output_type": "execute_result"
    }
   ],
   "source": [
    "dataset = pd.read_excel(\"Excursion Portfolio.xls\", sheet_name = 0)\n",
    "dataset.head(10)"
   ]
  },
  {
   "cell_type": "markdown",
   "metadata": {},
   "source": [
    "### Check the summary description and statistics  of the Dataset to familiarize yourself with the data"
   ]
  },
  {
   "cell_type": "code",
   "execution_count": 3,
   "metadata": {},
   "outputs": [
    {
     "name": "stdout",
     "output_type": "stream",
     "text": [
      "<class 'pandas.core.frame.DataFrame'>\n",
      "RangeIndex: 58 entries, 0 to 57\n",
      "Data columns (total 11 columns):\n",
      "Unnamed: 0     0 non-null float64\n",
      "Unnamed: 1     0 non-null float64\n",
      "Unnamed: 2     0 non-null float64\n",
      "Unnamed: 3     0 non-null float64\n",
      "Unnamed: 4     52 non-null object\n",
      "Unnamed: 5     50 non-null object\n",
      "Unnamed: 6     50 non-null object\n",
      "Unnamed: 7     51 non-null object\n",
      "Unnamed: 8     41 non-null object\n",
      "Unnamed: 9     41 non-null object\n",
      "Unnamed: 10    7 non-null object\n",
      "dtypes: float64(4), object(7)\n",
      "memory usage: 3.5+ KB\n"
     ]
    }
   ],
   "source": [
    "dataset.info()"
   ]
  },
  {
   "cell_type": "code",
   "execution_count": 4,
   "metadata": {},
   "outputs": [
    {
     "data": {
      "text/html": [
       "<div>\n",
       "<style scoped>\n",
       "    .dataframe tbody tr th:only-of-type {\n",
       "        vertical-align: middle;\n",
       "    }\n",
       "\n",
       "    .dataframe tbody tr th {\n",
       "        vertical-align: top;\n",
       "    }\n",
       "\n",
       "    .dataframe thead th {\n",
       "        text-align: right;\n",
       "    }\n",
       "</style>\n",
       "<table border=\"1\" class=\"dataframe\">\n",
       "  <thead>\n",
       "    <tr style=\"text-align: right;\">\n",
       "      <th></th>\n",
       "      <th>Unnamed: 0</th>\n",
       "      <th>Unnamed: 1</th>\n",
       "      <th>Unnamed: 2</th>\n",
       "      <th>Unnamed: 3</th>\n",
       "    </tr>\n",
       "  </thead>\n",
       "  <tbody>\n",
       "    <tr>\n",
       "      <td>count</td>\n",
       "      <td>0.0</td>\n",
       "      <td>0.0</td>\n",
       "      <td>0.0</td>\n",
       "      <td>0.0</td>\n",
       "    </tr>\n",
       "    <tr>\n",
       "      <td>mean</td>\n",
       "      <td>NaN</td>\n",
       "      <td>NaN</td>\n",
       "      <td>NaN</td>\n",
       "      <td>NaN</td>\n",
       "    </tr>\n",
       "    <tr>\n",
       "      <td>std</td>\n",
       "      <td>NaN</td>\n",
       "      <td>NaN</td>\n",
       "      <td>NaN</td>\n",
       "      <td>NaN</td>\n",
       "    </tr>\n",
       "    <tr>\n",
       "      <td>min</td>\n",
       "      <td>NaN</td>\n",
       "      <td>NaN</td>\n",
       "      <td>NaN</td>\n",
       "      <td>NaN</td>\n",
       "    </tr>\n",
       "    <tr>\n",
       "      <td>25%</td>\n",
       "      <td>NaN</td>\n",
       "      <td>NaN</td>\n",
       "      <td>NaN</td>\n",
       "      <td>NaN</td>\n",
       "    </tr>\n",
       "    <tr>\n",
       "      <td>50%</td>\n",
       "      <td>NaN</td>\n",
       "      <td>NaN</td>\n",
       "      <td>NaN</td>\n",
       "      <td>NaN</td>\n",
       "    </tr>\n",
       "    <tr>\n",
       "      <td>75%</td>\n",
       "      <td>NaN</td>\n",
       "      <td>NaN</td>\n",
       "      <td>NaN</td>\n",
       "      <td>NaN</td>\n",
       "    </tr>\n",
       "    <tr>\n",
       "      <td>max</td>\n",
       "      <td>NaN</td>\n",
       "      <td>NaN</td>\n",
       "      <td>NaN</td>\n",
       "      <td>NaN</td>\n",
       "    </tr>\n",
       "  </tbody>\n",
       "</table>\n",
       "</div>"
      ],
      "text/plain": [
       "       Unnamed: 0  Unnamed: 1  Unnamed: 2  Unnamed: 3\n",
       "count         0.0         0.0         0.0         0.0\n",
       "mean          NaN         NaN         NaN         NaN\n",
       "std           NaN         NaN         NaN         NaN\n",
       "min           NaN         NaN         NaN         NaN\n",
       "25%           NaN         NaN         NaN         NaN\n",
       "50%           NaN         NaN         NaN         NaN\n",
       "75%           NaN         NaN         NaN         NaN\n",
       "max           NaN         NaN         NaN         NaN"
      ]
     },
     "execution_count": 4,
     "metadata": {},
     "output_type": "execute_result"
    }
   ],
   "source": [
    "dataset.describe()"
   ]
  },
  {
   "cell_type": "code",
   "execution_count": 5,
   "metadata": {},
   "outputs": [
    {
     "data": {
      "text/plain": [
       "(58, 11)"
      ]
     },
     "execution_count": 5,
     "metadata": {},
     "output_type": "execute_result"
    }
   ],
   "source": [
    "dataset.shape"
   ]
  },
  {
   "cell_type": "code",
   "execution_count": 6,
   "metadata": {},
   "outputs": [
    {
     "data": {
      "text/plain": [
       "638"
      ]
     },
     "execution_count": 6,
     "metadata": {},
     "output_type": "execute_result"
    }
   ],
   "source": [
    "dataset.size"
   ]
  },
  {
   "cell_type": "code",
   "execution_count": 7,
   "metadata": {},
   "outputs": [
    {
     "data": {
      "text/plain": [
       "2"
      ]
     },
     "execution_count": 7,
     "metadata": {},
     "output_type": "execute_result"
    }
   ],
   "source": [
    "dataset.ndim"
   ]
  },
  {
   "cell_type": "code",
   "execution_count": 8,
   "metadata": {
    "scrolled": true
   },
   "outputs": [
    {
     "data": {
      "text/plain": [
       "Unnamed: 0     float64\n",
       "Unnamed: 1     float64\n",
       "Unnamed: 2     float64\n",
       "Unnamed: 3     float64\n",
       "Unnamed: 4      object\n",
       "Unnamed: 5      object\n",
       "Unnamed: 6      object\n",
       "Unnamed: 7      object\n",
       "Unnamed: 8      object\n",
       "Unnamed: 9      object\n",
       "Unnamed: 10     object\n",
       "dtype: object"
      ]
     },
     "execution_count": 8,
     "metadata": {},
     "output_type": "execute_result"
    }
   ],
   "source": [
    "dataset.dtypes"
   ]
  },
  {
   "cell_type": "markdown",
   "metadata": {},
   "source": [
    "### Since a visual clue to the data reveals that some rows and columns contains   nan, use \"dropna\" to delete all rows and columns that contains \"nan\" across the columns and down the rows respectively"
   ]
  },
  {
   "cell_type": "code",
   "execution_count": 9,
   "metadata": {},
   "outputs": [],
   "source": [
    "dataset.dropna(how = 'all', inplace = True)"
   ]
  },
  {
   "cell_type": "code",
   "execution_count": 10,
   "metadata": {},
   "outputs": [],
   "source": [
    "dataset.dropna(how = \"all\", axis = 1, inplace = True)"
   ]
  },
  {
   "cell_type": "code",
   "execution_count": 11,
   "metadata": {
    "scrolled": false
   },
   "outputs": [
    {
     "data": {
      "text/html": [
       "<div>\n",
       "<style scoped>\n",
       "    .dataframe tbody tr th:only-of-type {\n",
       "        vertical-align: middle;\n",
       "    }\n",
       "\n",
       "    .dataframe tbody tr th {\n",
       "        vertical-align: top;\n",
       "    }\n",
       "\n",
       "    .dataframe thead th {\n",
       "        text-align: right;\n",
       "    }\n",
       "</style>\n",
       "<table border=\"1\" class=\"dataframe\">\n",
       "  <thead>\n",
       "    <tr style=\"text-align: right;\">\n",
       "      <th></th>\n",
       "      <th>Unnamed: 4</th>\n",
       "      <th>Unnamed: 5</th>\n",
       "      <th>Unnamed: 6</th>\n",
       "      <th>Unnamed: 7</th>\n",
       "      <th>Unnamed: 8</th>\n",
       "      <th>Unnamed: 9</th>\n",
       "      <th>Unnamed: 10</th>\n",
       "    </tr>\n",
       "  </thead>\n",
       "  <tbody>\n",
       "    <tr>\n",
       "      <td>4</td>\n",
       "      <td>S/N</td>\n",
       "      <td>Name</td>\n",
       "      <td>Status</td>\n",
       "      <td>Amount Paid</td>\n",
       "      <td>T-shirt</td>\n",
       "      <td>NaN</td>\n",
       "      <td>Comments</td>\n",
       "    </tr>\n",
       "    <tr>\n",
       "      <td>5</td>\n",
       "      <td>NaN</td>\n",
       "      <td>NaN</td>\n",
       "      <td>NaN</td>\n",
       "      <td>NaN</td>\n",
       "      <td>Type</td>\n",
       "      <td>Amount</td>\n",
       "      <td>NaN</td>\n",
       "    </tr>\n",
       "    <tr>\n",
       "      <td>6</td>\n",
       "      <td>1</td>\n",
       "      <td>Victor T. Na'Allah</td>\n",
       "      <td>Member</td>\n",
       "      <td>12000</td>\n",
       "      <td>Long Sleeve</td>\n",
       "      <td>2500</td>\n",
       "      <td>NaN</td>\n",
       "    </tr>\n",
       "    <tr>\n",
       "      <td>7</td>\n",
       "      <td>2</td>\n",
       "      <td>Olajide Mattew</td>\n",
       "      <td>Member</td>\n",
       "      <td>12000</td>\n",
       "      <td>Long Sleeve</td>\n",
       "      <td>2500</td>\n",
       "      <td>NaN</td>\n",
       "    </tr>\n",
       "    <tr>\n",
       "      <td>8</td>\n",
       "      <td>3</td>\n",
       "      <td>Abel Modu Timothy</td>\n",
       "      <td>Member</td>\n",
       "      <td>12000</td>\n",
       "      <td>Long Sleeve</td>\n",
       "      <td>2500</td>\n",
       "      <td>NaN</td>\n",
       "    </tr>\n",
       "  </tbody>\n",
       "</table>\n",
       "</div>"
      ],
      "text/plain": [
       "  Unnamed: 4          Unnamed: 5 Unnamed: 6   Unnamed: 7   Unnamed: 8  \\\n",
       "4        S/N                Name     Status  Amount Paid      T-shirt   \n",
       "5        NaN                 NaN        NaN          NaN         Type   \n",
       "6          1  Victor T. Na'Allah     Member        12000  Long Sleeve   \n",
       "7          2      Olajide Mattew     Member        12000  Long Sleeve   \n",
       "8          3   Abel Modu Timothy     Member        12000  Long Sleeve   \n",
       "\n",
       "  Unnamed: 9 Unnamed: 10  \n",
       "4        NaN    Comments  \n",
       "5     Amount         NaN  \n",
       "6       2500         NaN  \n",
       "7       2500         NaN  \n",
       "8       2500         NaN  "
      ]
     },
     "execution_count": 11,
     "metadata": {},
     "output_type": "execute_result"
    }
   ],
   "source": [
    "dataset.head()"
   ]
  },
  {
   "cell_type": "markdown",
   "metadata": {},
   "source": [
    "### Create a  new column label and assign it accordingly"
   ]
  },
  {
   "cell_type": "code",
   "execution_count": 12,
   "metadata": {},
   "outputs": [
    {
     "data": {
      "text/plain": [
       "['S/N', 'Name', 'Status', 'Amount Paid', 'T-shirt', nan, 'Comments']"
      ]
     },
     "execution_count": 12,
     "metadata": {},
     "output_type": "execute_result"
    }
   ],
   "source": [
    "new_col = list(dataset.loc[4])\n",
    "new_col"
   ]
  },
  {
   "cell_type": "code",
   "execution_count": 13,
   "metadata": {},
   "outputs": [
    {
     "data": {
      "text/plain": [
       "['S/N',\n",
       " 'Name',\n",
       " 'Status',\n",
       " 'Amount Paid',\n",
       " 'T-shirt',\n",
       " 'T-Shirt Amount',\n",
       " 'Comments']"
      ]
     },
     "execution_count": 13,
     "metadata": {},
     "output_type": "execute_result"
    }
   ],
   "source": [
    "new_col[5] = 'T-Shirt Amount'\n",
    "new_col"
   ]
  },
  {
   "cell_type": "code",
   "execution_count": 14,
   "metadata": {
    "scrolled": false
   },
   "outputs": [
    {
     "data": {
      "text/html": [
       "<div>\n",
       "<style scoped>\n",
       "    .dataframe tbody tr th:only-of-type {\n",
       "        vertical-align: middle;\n",
       "    }\n",
       "\n",
       "    .dataframe tbody tr th {\n",
       "        vertical-align: top;\n",
       "    }\n",
       "\n",
       "    .dataframe thead th {\n",
       "        text-align: right;\n",
       "    }\n",
       "</style>\n",
       "<table border=\"1\" class=\"dataframe\">\n",
       "  <thead>\n",
       "    <tr style=\"text-align: right;\">\n",
       "      <th></th>\n",
       "      <th>S/N</th>\n",
       "      <th>Name</th>\n",
       "      <th>Status</th>\n",
       "      <th>Amount Paid</th>\n",
       "      <th>T-shirt</th>\n",
       "      <th>T-Shirt Amount</th>\n",
       "      <th>Comments</th>\n",
       "    </tr>\n",
       "  </thead>\n",
       "  <tbody>\n",
       "    <tr>\n",
       "      <td>4</td>\n",
       "      <td>S/N</td>\n",
       "      <td>Name</td>\n",
       "      <td>Status</td>\n",
       "      <td>Amount Paid</td>\n",
       "      <td>T-shirt</td>\n",
       "      <td>NaN</td>\n",
       "      <td>Comments</td>\n",
       "    </tr>\n",
       "    <tr>\n",
       "      <td>5</td>\n",
       "      <td>NaN</td>\n",
       "      <td>NaN</td>\n",
       "      <td>NaN</td>\n",
       "      <td>NaN</td>\n",
       "      <td>Type</td>\n",
       "      <td>Amount</td>\n",
       "      <td>NaN</td>\n",
       "    </tr>\n",
       "    <tr>\n",
       "      <td>6</td>\n",
       "      <td>1</td>\n",
       "      <td>Victor T. Na'Allah</td>\n",
       "      <td>Member</td>\n",
       "      <td>12000</td>\n",
       "      <td>Long Sleeve</td>\n",
       "      <td>2500</td>\n",
       "      <td>NaN</td>\n",
       "    </tr>\n",
       "    <tr>\n",
       "      <td>7</td>\n",
       "      <td>2</td>\n",
       "      <td>Olajide Mattew</td>\n",
       "      <td>Member</td>\n",
       "      <td>12000</td>\n",
       "      <td>Long Sleeve</td>\n",
       "      <td>2500</td>\n",
       "      <td>NaN</td>\n",
       "    </tr>\n",
       "    <tr>\n",
       "      <td>8</td>\n",
       "      <td>3</td>\n",
       "      <td>Abel Modu Timothy</td>\n",
       "      <td>Member</td>\n",
       "      <td>12000</td>\n",
       "      <td>Long Sleeve</td>\n",
       "      <td>2500</td>\n",
       "      <td>NaN</td>\n",
       "    </tr>\n",
       "  </tbody>\n",
       "</table>\n",
       "</div>"
      ],
      "text/plain": [
       "   S/N                Name  Status  Amount Paid      T-shirt T-Shirt Amount  \\\n",
       "4  S/N                Name  Status  Amount Paid      T-shirt            NaN   \n",
       "5  NaN                 NaN     NaN          NaN         Type         Amount   \n",
       "6    1  Victor T. Na'Allah  Member        12000  Long Sleeve           2500   \n",
       "7    2      Olajide Mattew  Member        12000  Long Sleeve           2500   \n",
       "8    3   Abel Modu Timothy  Member        12000  Long Sleeve           2500   \n",
       "\n",
       "   Comments  \n",
       "4  Comments  \n",
       "5       NaN  \n",
       "6       NaN  \n",
       "7       NaN  \n",
       "8       NaN  "
      ]
     },
     "execution_count": 14,
     "metadata": {},
     "output_type": "execute_result"
    }
   ],
   "source": [
    "dataset.columns = new_col\n",
    "dataset.head()"
   ]
  },
  {
   "cell_type": "markdown",
   "metadata": {},
   "source": [
    "### Create a new index label and assign it accordingly and"
   ]
  },
  {
   "cell_type": "code",
   "execution_count": 15,
   "metadata": {},
   "outputs": [
    {
     "data": {
      "text/plain": [
       "['Name',\n",
       " nan,\n",
       " \"Victor T. Na'Allah\",\n",
       " 'Olajide Mattew',\n",
       " 'Abel Modu Timothy',\n",
       " 'Egwim Jones Udojuaku',\n",
       " 'Nwachukwu Emmanuel Benedict',\n",
       " 'Adole John A.',\n",
       " 'Faleti Ayodeji Peter',\n",
       " 'Ayantoye Ridwan Ayomide',\n",
       " 'Marvellous  T. Isaac',\n",
       " 'Shenge Raphael Saarshatar',\n",
       " 'Reuben O.Enoch',\n",
       " 'Mercy Ajayi',\n",
       " 'Michael Kpoco',\n",
       " 'Saad',\n",
       " 'Terzungwe Caleb',\n",
       " 'Faith',\n",
       " 'Gonet Zion',\n",
       " 'Hawwau Adeboyin Adeyemo\\nFor => Jubrin Omeiza',\n",
       " 'Nicholas Otonoku',\n",
       " 'Timothy Ignitus Agbor',\n",
       " 'Madumche Chidibere',\n",
       " 'Nwokocha Ethelbert',\n",
       " 'Effiong Ubon Alasi ',\n",
       " 'Daniel Overcomer',\n",
       " 'Aguwa Wisdom',\n",
       " 'Ganiyu Mujeeb',\n",
       " 'Hezekiel Joel',\n",
       " 'Shitu Mustapha Ibrahim',\n",
       " 'Orogu Francis Israel',\n",
       " 'Agha Elizabeth',\n",
       " 'Muhammed Zainab',\n",
       " 'Isaac Priscilla',\n",
       " 'Paul Elizabeth Ladi',\n",
       " 'Omaji Samuel Owoicho',\n",
       " 'Esinome Abraham',\n",
       " 'Umeh Audu Ayigba',\n",
       " 'Sarah Kauna Edoja',\n",
       " 'Ibrahim Hussein Chado',\n",
       " 'Fatima Ganiyu',\n",
       " 'Daleng Elisha Nandi',\n",
       " 'Ukande Aondongu Cephas',\n",
       " 'De-Gold David Tarki',\n",
       " 'Shekinah Ajibola',\n",
       " 'Adanu David',\n",
       " 'Oche Muscle',\n",
       " 'Ocheje Jeremiah',\n",
       " 'Oguntowo Basit Ifedolapo',\n",
       " 'Simeon Iganga',\n",
       " 'Caleb Onuoja Aaron',\n",
       " nan,\n",
       " nan]"
      ]
     },
     "execution_count": 15,
     "metadata": {},
     "output_type": "execute_result"
    }
   ],
   "source": [
    "new_index = list(dataset['Name'])\n",
    "new_index"
   ]
  },
  {
   "cell_type": "markdown",
   "metadata": {},
   "source": [
    "### There are some \" nan\" in. the index list i just created. To avoid having issues dealing with them, I decided to give it a proper name below"
   ]
  },
  {
   "cell_type": "code",
   "execution_count": 16,
   "metadata": {},
   "outputs": [],
   "source": [
    "new_index[1] = \"count\""
   ]
  },
  {
   "cell_type": "code",
   "execution_count": 17,
   "metadata": {},
   "outputs": [],
   "source": [
    "new_index[-1] = \"total\""
   ]
  },
  {
   "cell_type": "code",
   "execution_count": 18,
   "metadata": {},
   "outputs": [],
   "source": [
    "new_index[-2] = \"type\""
   ]
  },
  {
   "cell_type": "code",
   "execution_count": 19,
   "metadata": {},
   "outputs": [
    {
     "data": {
      "text/plain": [
       "['Name',\n",
       " 'count',\n",
       " \"Victor T. Na'Allah\",\n",
       " 'Olajide Mattew',\n",
       " 'Abel Modu Timothy',\n",
       " 'Egwim Jones Udojuaku',\n",
       " 'Nwachukwu Emmanuel Benedict',\n",
       " 'Adole John A.',\n",
       " 'Faleti Ayodeji Peter',\n",
       " 'Ayantoye Ridwan Ayomide',\n",
       " 'Marvellous  T. Isaac',\n",
       " 'Shenge Raphael Saarshatar',\n",
       " 'Reuben O.Enoch',\n",
       " 'Mercy Ajayi',\n",
       " 'Michael Kpoco',\n",
       " 'Saad',\n",
       " 'Terzungwe Caleb',\n",
       " 'Faith',\n",
       " 'Gonet Zion',\n",
       " 'Hawwau Adeboyin Adeyemo\\nFor => Jubrin Omeiza',\n",
       " 'Nicholas Otonoku',\n",
       " 'Timothy Ignitus Agbor',\n",
       " 'Madumche Chidibere',\n",
       " 'Nwokocha Ethelbert',\n",
       " 'Effiong Ubon Alasi ',\n",
       " 'Daniel Overcomer',\n",
       " 'Aguwa Wisdom',\n",
       " 'Ganiyu Mujeeb',\n",
       " 'Hezekiel Joel',\n",
       " 'Shitu Mustapha Ibrahim',\n",
       " 'Orogu Francis Israel',\n",
       " 'Agha Elizabeth',\n",
       " 'Muhammed Zainab',\n",
       " 'Isaac Priscilla',\n",
       " 'Paul Elizabeth Ladi',\n",
       " 'Omaji Samuel Owoicho',\n",
       " 'Esinome Abraham',\n",
       " 'Umeh Audu Ayigba',\n",
       " 'Sarah Kauna Edoja',\n",
       " 'Ibrahim Hussein Chado',\n",
       " 'Fatima Ganiyu',\n",
       " 'Daleng Elisha Nandi',\n",
       " 'Ukande Aondongu Cephas',\n",
       " 'De-Gold David Tarki',\n",
       " 'Shekinah Ajibola',\n",
       " 'Adanu David',\n",
       " 'Oche Muscle',\n",
       " 'Ocheje Jeremiah',\n",
       " 'Oguntowo Basit Ifedolapo',\n",
       " 'Simeon Iganga',\n",
       " 'Caleb Onuoja Aaron',\n",
       " 'type',\n",
       " 'total']"
      ]
     },
     "execution_count": 19,
     "metadata": {},
     "output_type": "execute_result"
    }
   ],
   "source": [
    "new_index"
   ]
  },
  {
   "cell_type": "code",
   "execution_count": 20,
   "metadata": {},
   "outputs": [],
   "source": [
    "dataset.index = new_index"
   ]
  },
  {
   "cell_type": "code",
   "execution_count": 21,
   "metadata": {
    "scrolled": false
   },
   "outputs": [
    {
     "data": {
      "text/html": [
       "<div>\n",
       "<style scoped>\n",
       "    .dataframe tbody tr th:only-of-type {\n",
       "        vertical-align: middle;\n",
       "    }\n",
       "\n",
       "    .dataframe tbody tr th {\n",
       "        vertical-align: top;\n",
       "    }\n",
       "\n",
       "    .dataframe thead th {\n",
       "        text-align: right;\n",
       "    }\n",
       "</style>\n",
       "<table border=\"1\" class=\"dataframe\">\n",
       "  <thead>\n",
       "    <tr style=\"text-align: right;\">\n",
       "      <th></th>\n",
       "      <th>S/N</th>\n",
       "      <th>Name</th>\n",
       "      <th>Status</th>\n",
       "      <th>Amount Paid</th>\n",
       "      <th>T-shirt</th>\n",
       "      <th>T-Shirt Amount</th>\n",
       "      <th>Comments</th>\n",
       "    </tr>\n",
       "  </thead>\n",
       "  <tbody>\n",
       "    <tr>\n",
       "      <td>Name</td>\n",
       "      <td>S/N</td>\n",
       "      <td>Name</td>\n",
       "      <td>Status</td>\n",
       "      <td>Amount Paid</td>\n",
       "      <td>T-shirt</td>\n",
       "      <td>NaN</td>\n",
       "      <td>Comments</td>\n",
       "    </tr>\n",
       "    <tr>\n",
       "      <td>count</td>\n",
       "      <td>NaN</td>\n",
       "      <td>NaN</td>\n",
       "      <td>NaN</td>\n",
       "      <td>NaN</td>\n",
       "      <td>Type</td>\n",
       "      <td>Amount</td>\n",
       "      <td>NaN</td>\n",
       "    </tr>\n",
       "    <tr>\n",
       "      <td>Victor T. Na'Allah</td>\n",
       "      <td>1</td>\n",
       "      <td>Victor T. Na'Allah</td>\n",
       "      <td>Member</td>\n",
       "      <td>12000</td>\n",
       "      <td>Long Sleeve</td>\n",
       "      <td>2500</td>\n",
       "      <td>NaN</td>\n",
       "    </tr>\n",
       "    <tr>\n",
       "      <td>Olajide Mattew</td>\n",
       "      <td>2</td>\n",
       "      <td>Olajide Mattew</td>\n",
       "      <td>Member</td>\n",
       "      <td>12000</td>\n",
       "      <td>Long Sleeve</td>\n",
       "      <td>2500</td>\n",
       "      <td>NaN</td>\n",
       "    </tr>\n",
       "    <tr>\n",
       "      <td>Abel Modu Timothy</td>\n",
       "      <td>3</td>\n",
       "      <td>Abel Modu Timothy</td>\n",
       "      <td>Member</td>\n",
       "      <td>12000</td>\n",
       "      <td>Long Sleeve</td>\n",
       "      <td>2500</td>\n",
       "      <td>NaN</td>\n",
       "    </tr>\n",
       "  </tbody>\n",
       "</table>\n",
       "</div>"
      ],
      "text/plain": [
       "                    S/N                Name  Status  Amount Paid      T-shirt  \\\n",
       "Name                S/N                Name  Status  Amount Paid      T-shirt   \n",
       "count               NaN                 NaN     NaN          NaN         Type   \n",
       "Victor T. Na'Allah    1  Victor T. Na'Allah  Member        12000  Long Sleeve   \n",
       "Olajide Mattew        2      Olajide Mattew  Member        12000  Long Sleeve   \n",
       "Abel Modu Timothy     3   Abel Modu Timothy  Member        12000  Long Sleeve   \n",
       "\n",
       "                   T-Shirt Amount  Comments  \n",
       "Name                          NaN  Comments  \n",
       "count                      Amount       NaN  \n",
       "Victor T. Na'Allah           2500       NaN  \n",
       "Olajide Mattew               2500       NaN  \n",
       "Abel Modu Timothy            2500       NaN  "
      ]
     },
     "execution_count": 21,
     "metadata": {},
     "output_type": "execute_result"
    }
   ],
   "source": [
    "dataset.head()"
   ]
  },
  {
   "cell_type": "markdown",
   "metadata": {},
   "source": [
    "### Now, delete the irrelevant rows and columns in the dataset at this stage."
   ]
  },
  {
   "cell_type": "code",
   "execution_count": 22,
   "metadata": {},
   "outputs": [
    {
     "data": {
      "text/html": [
       "<div>\n",
       "<style scoped>\n",
       "    .dataframe tbody tr th:only-of-type {\n",
       "        vertical-align: middle;\n",
       "    }\n",
       "\n",
       "    .dataframe tbody tr th {\n",
       "        vertical-align: top;\n",
       "    }\n",
       "\n",
       "    .dataframe thead th {\n",
       "        text-align: right;\n",
       "    }\n",
       "</style>\n",
       "<table border=\"1\" class=\"dataframe\">\n",
       "  <thead>\n",
       "    <tr style=\"text-align: right;\">\n",
       "      <th></th>\n",
       "      <th>S/N</th>\n",
       "      <th>Name</th>\n",
       "      <th>Status</th>\n",
       "      <th>Amount Paid</th>\n",
       "      <th>T-shirt</th>\n",
       "      <th>T-Shirt Amount</th>\n",
       "      <th>Comments</th>\n",
       "    </tr>\n",
       "  </thead>\n",
       "  <tbody>\n",
       "    <tr>\n",
       "      <td>Victor T. Na'Allah</td>\n",
       "      <td>1</td>\n",
       "      <td>Victor T. Na'Allah</td>\n",
       "      <td>Member</td>\n",
       "      <td>12000</td>\n",
       "      <td>Long Sleeve</td>\n",
       "      <td>2500</td>\n",
       "      <td>NaN</td>\n",
       "    </tr>\n",
       "    <tr>\n",
       "      <td>Olajide Mattew</td>\n",
       "      <td>2</td>\n",
       "      <td>Olajide Mattew</td>\n",
       "      <td>Member</td>\n",
       "      <td>12000</td>\n",
       "      <td>Long Sleeve</td>\n",
       "      <td>2500</td>\n",
       "      <td>NaN</td>\n",
       "    </tr>\n",
       "    <tr>\n",
       "      <td>Abel Modu Timothy</td>\n",
       "      <td>3</td>\n",
       "      <td>Abel Modu Timothy</td>\n",
       "      <td>Member</td>\n",
       "      <td>12000</td>\n",
       "      <td>Long Sleeve</td>\n",
       "      <td>2500</td>\n",
       "      <td>NaN</td>\n",
       "    </tr>\n",
       "    <tr>\n",
       "      <td>Egwim Jones Udojuaku</td>\n",
       "      <td>4</td>\n",
       "      <td>Egwim Jones Udojuaku</td>\n",
       "      <td>Member</td>\n",
       "      <td>12000</td>\n",
       "      <td>Long Sleeve</td>\n",
       "      <td>2500</td>\n",
       "      <td>NaN</td>\n",
       "    </tr>\n",
       "    <tr>\n",
       "      <td>Nwachukwu Emmanuel Benedict</td>\n",
       "      <td>5</td>\n",
       "      <td>Nwachukwu Emmanuel Benedict</td>\n",
       "      <td>Member</td>\n",
       "      <td>12000</td>\n",
       "      <td>Long Sleeve</td>\n",
       "      <td>2500</td>\n",
       "      <td>NaN</td>\n",
       "    </tr>\n",
       "  </tbody>\n",
       "</table>\n",
       "</div>"
      ],
      "text/plain": [
       "                            S/N                         Name  Status  \\\n",
       "Victor T. Na'Allah            1           Victor T. Na'Allah  Member   \n",
       "Olajide Mattew                2               Olajide Mattew  Member   \n",
       "Abel Modu Timothy             3            Abel Modu Timothy  Member   \n",
       "Egwim Jones Udojuaku          4         Egwim Jones Udojuaku  Member   \n",
       "Nwachukwu Emmanuel Benedict   5  Nwachukwu Emmanuel Benedict  Member   \n",
       "\n",
       "                            Amount Paid      T-shirt T-Shirt Amount Comments  \n",
       "Victor T. Na'Allah                12000  Long Sleeve           2500      NaN  \n",
       "Olajide Mattew                    12000  Long Sleeve           2500      NaN  \n",
       "Abel Modu Timothy                 12000  Long Sleeve           2500      NaN  \n",
       "Egwim Jones Udojuaku              12000  Long Sleeve           2500      NaN  \n",
       "Nwachukwu Emmanuel Benedict       12000  Long Sleeve           2500      NaN  "
      ]
     },
     "execution_count": 22,
     "metadata": {},
     "output_type": "execute_result"
    }
   ],
   "source": [
    "dataset.drop(['Name','count','type','total'], inplace = True)\n",
    "dataset.head()"
   ]
  },
  {
   "cell_type": "code",
   "execution_count": 23,
   "metadata": {},
   "outputs": [],
   "source": [
    "dataset.drop(['S/N', 'Name', 'Comments'], axis = 1, inplace = True)\n"
   ]
  },
  {
   "cell_type": "code",
   "execution_count": 24,
   "metadata": {},
   "outputs": [
    {
     "data": {
      "text/html": [
       "<div>\n",
       "<style scoped>\n",
       "    .dataframe tbody tr th:only-of-type {\n",
       "        vertical-align: middle;\n",
       "    }\n",
       "\n",
       "    .dataframe tbody tr th {\n",
       "        vertical-align: top;\n",
       "    }\n",
       "\n",
       "    .dataframe thead th {\n",
       "        text-align: right;\n",
       "    }\n",
       "</style>\n",
       "<table border=\"1\" class=\"dataframe\">\n",
       "  <thead>\n",
       "    <tr style=\"text-align: right;\">\n",
       "      <th></th>\n",
       "      <th>Status</th>\n",
       "      <th>Amount Paid</th>\n",
       "      <th>T-shirt</th>\n",
       "      <th>T-Shirt Amount</th>\n",
       "    </tr>\n",
       "  </thead>\n",
       "  <tbody>\n",
       "    <tr>\n",
       "      <td>Victor T. Na'Allah</td>\n",
       "      <td>Member</td>\n",
       "      <td>12000</td>\n",
       "      <td>Long Sleeve</td>\n",
       "      <td>2500</td>\n",
       "    </tr>\n",
       "    <tr>\n",
       "      <td>Olajide Mattew</td>\n",
       "      <td>Member</td>\n",
       "      <td>12000</td>\n",
       "      <td>Long Sleeve</td>\n",
       "      <td>2500</td>\n",
       "    </tr>\n",
       "    <tr>\n",
       "      <td>Abel Modu Timothy</td>\n",
       "      <td>Member</td>\n",
       "      <td>12000</td>\n",
       "      <td>Long Sleeve</td>\n",
       "      <td>2500</td>\n",
       "    </tr>\n",
       "    <tr>\n",
       "      <td>Egwim Jones Udojuaku</td>\n",
       "      <td>Member</td>\n",
       "      <td>12000</td>\n",
       "      <td>Long Sleeve</td>\n",
       "      <td>2500</td>\n",
       "    </tr>\n",
       "    <tr>\n",
       "      <td>Nwachukwu Emmanuel Benedict</td>\n",
       "      <td>Member</td>\n",
       "      <td>12000</td>\n",
       "      <td>Long Sleeve</td>\n",
       "      <td>2500</td>\n",
       "    </tr>\n",
       "  </tbody>\n",
       "</table>\n",
       "</div>"
      ],
      "text/plain": [
       "                             Status Amount Paid      T-shirt T-Shirt Amount\n",
       "Victor T. Na'Allah           Member       12000  Long Sleeve           2500\n",
       "Olajide Mattew               Member       12000  Long Sleeve           2500\n",
       "Abel Modu Timothy            Member       12000  Long Sleeve           2500\n",
       "Egwim Jones Udojuaku         Member       12000  Long Sleeve           2500\n",
       "Nwachukwu Emmanuel Benedict  Member       12000  Long Sleeve           2500"
      ]
     },
     "execution_count": 24,
     "metadata": {},
     "output_type": "execute_result"
    }
   ],
   "source": [
    "dataset.head()"
   ]
  },
  {
   "cell_type": "code",
   "execution_count": 25,
   "metadata": {
    "scrolled": true
   },
   "outputs": [
    {
     "data": {
      "text/html": [
       "<div>\n",
       "<style scoped>\n",
       "    .dataframe tbody tr th:only-of-type {\n",
       "        vertical-align: middle;\n",
       "    }\n",
       "\n",
       "    .dataframe tbody tr th {\n",
       "        vertical-align: top;\n",
       "    }\n",
       "\n",
       "    .dataframe thead th {\n",
       "        text-align: right;\n",
       "    }\n",
       "</style>\n",
       "<table border=\"1\" class=\"dataframe\">\n",
       "  <thead>\n",
       "    <tr style=\"text-align: right;\">\n",
       "      <th></th>\n",
       "      <th>Status</th>\n",
       "      <th>Amount Paid</th>\n",
       "      <th>T-shirt</th>\n",
       "      <th>T-Shirt Amount</th>\n",
       "    </tr>\n",
       "  </thead>\n",
       "  <tbody>\n",
       "    <tr>\n",
       "      <td>count</td>\n",
       "      <td>49</td>\n",
       "      <td>48</td>\n",
       "      <td>39</td>\n",
       "      <td>39</td>\n",
       "    </tr>\n",
       "    <tr>\n",
       "      <td>unique</td>\n",
       "      <td>2</td>\n",
       "      <td>7</td>\n",
       "      <td>3</td>\n",
       "      <td>3</td>\n",
       "    </tr>\n",
       "    <tr>\n",
       "      <td>top</td>\n",
       "      <td>Member</td>\n",
       "      <td>12000</td>\n",
       "      <td>Long Sleeve</td>\n",
       "      <td>2500</td>\n",
       "    </tr>\n",
       "    <tr>\n",
       "      <td>freq</td>\n",
       "      <td>44</td>\n",
       "      <td>38</td>\n",
       "      <td>18</td>\n",
       "      <td>18</td>\n",
       "    </tr>\n",
       "  </tbody>\n",
       "</table>\n",
       "</div>"
      ],
      "text/plain": [
       "        Status  Amount Paid      T-shirt  T-Shirt Amount\n",
       "count       49           48           39              39\n",
       "unique       2            7            3               3\n",
       "top     Member        12000  Long Sleeve            2500\n",
       "freq        44           38           18              18"
      ]
     },
     "execution_count": 25,
     "metadata": {},
     "output_type": "execute_result"
    }
   ],
   "source": [
    "dataset.describe()"
   ]
  },
  {
   "cell_type": "markdown",
   "metadata": {},
   "source": [
    "###  Now, it's time to deal with the null data in this dataset. If you decide to drop the null values at this stage, you'll be losing a large chunk of valuable data. A better alternative is to fill the null values as the case requires. My approach is written below"
   ]
  },
  {
   "cell_type": "code",
   "execution_count": 26,
   "metadata": {},
   "outputs": [],
   "source": [
    "dataset[\"Amount Paid\"].fillna(0, inplace = True)"
   ]
  },
  {
   "cell_type": "code",
   "execution_count": 27,
   "metadata": {},
   "outputs": [
    {
     "name": "stdout",
     "output_type": "stream",
     "text": [
      "<class 'pandas.core.frame.DataFrame'>\n",
      "Index: 49 entries, Victor T. Na'Allah to Caleb Onuoja Aaron\n",
      "Data columns (total 4 columns):\n",
      "Status            49 non-null object\n",
      "Amount Paid       49 non-null int64\n",
      "T-shirt           39 non-null object\n",
      "T-Shirt Amount    39 non-null object\n",
      "dtypes: int64(1), object(3)\n",
      "memory usage: 1.1+ KB\n"
     ]
    }
   ],
   "source": [
    "dataset.info()"
   ]
  },
  {
   "cell_type": "code",
   "execution_count": 28,
   "metadata": {},
   "outputs": [],
   "source": [
    "dataset[\"T-shirt\"].fillna(\"Long Sleeve\", inplace = True)"
   ]
  },
  {
   "cell_type": "code",
   "execution_count": 29,
   "metadata": {},
   "outputs": [],
   "source": [
    "dataset[\"T-Shirt Amount\"].fillna(2500, inplace = True)"
   ]
  },
  {
   "cell_type": "code",
   "execution_count": 30,
   "metadata": {},
   "outputs": [],
   "source": [
    "dataset[\"T-shirt\"].replace({\"NIL\":\"No Sleeve\"}, inplace = True)"
   ]
  },
  {
   "cell_type": "code",
   "execution_count": 31,
   "metadata": {},
   "outputs": [],
   "source": [
    "dataset[\"T-Shirt Amount\"].replace({\"NIL\":0}, inplace = True)"
   ]
  },
  {
   "cell_type": "code",
   "execution_count": 32,
   "metadata": {
    "scrolled": true
   },
   "outputs": [
    {
     "data": {
      "text/html": [
       "<div>\n",
       "<style scoped>\n",
       "    .dataframe tbody tr th:only-of-type {\n",
       "        vertical-align: middle;\n",
       "    }\n",
       "\n",
       "    .dataframe tbody tr th {\n",
       "        vertical-align: top;\n",
       "    }\n",
       "\n",
       "    .dataframe thead th {\n",
       "        text-align: right;\n",
       "    }\n",
       "</style>\n",
       "<table border=\"1\" class=\"dataframe\">\n",
       "  <thead>\n",
       "    <tr style=\"text-align: right;\">\n",
       "      <th></th>\n",
       "      <th>Status</th>\n",
       "      <th>Amount Paid</th>\n",
       "      <th>T-shirt</th>\n",
       "      <th>T-Shirt Amount</th>\n",
       "    </tr>\n",
       "    <tr>\n",
       "      <th>Name</th>\n",
       "      <th></th>\n",
       "      <th></th>\n",
       "      <th></th>\n",
       "      <th></th>\n",
       "    </tr>\n",
       "  </thead>\n",
       "  <tbody>\n",
       "    <tr>\n",
       "      <td>Victor T. Na'Allah</td>\n",
       "      <td>Member</td>\n",
       "      <td>12000</td>\n",
       "      <td>Long Sleeve</td>\n",
       "      <td>2500</td>\n",
       "    </tr>\n",
       "    <tr>\n",
       "      <td>Olajide Mattew</td>\n",
       "      <td>Member</td>\n",
       "      <td>12000</td>\n",
       "      <td>Long Sleeve</td>\n",
       "      <td>2500</td>\n",
       "    </tr>\n",
       "    <tr>\n",
       "      <td>Abel Modu Timothy</td>\n",
       "      <td>Member</td>\n",
       "      <td>12000</td>\n",
       "      <td>Long Sleeve</td>\n",
       "      <td>2500</td>\n",
       "    </tr>\n",
       "    <tr>\n",
       "      <td>Egwim Jones Udojuaku</td>\n",
       "      <td>Member</td>\n",
       "      <td>12000</td>\n",
       "      <td>Long Sleeve</td>\n",
       "      <td>2500</td>\n",
       "    </tr>\n",
       "    <tr>\n",
       "      <td>Nwachukwu Emmanuel Benedict</td>\n",
       "      <td>Member</td>\n",
       "      <td>12000</td>\n",
       "      <td>Long Sleeve</td>\n",
       "      <td>2500</td>\n",
       "    </tr>\n",
       "  </tbody>\n",
       "</table>\n",
       "</div>"
      ],
      "text/plain": [
       "                             Status  Amount Paid      T-shirt  T-Shirt Amount\n",
       "Name                                                                         \n",
       "Victor T. Na'Allah           Member        12000  Long Sleeve            2500\n",
       "Olajide Mattew               Member        12000  Long Sleeve            2500\n",
       "Abel Modu Timothy            Member        12000  Long Sleeve            2500\n",
       "Egwim Jones Udojuaku         Member        12000  Long Sleeve            2500\n",
       "Nwachukwu Emmanuel Benedict  Member        12000  Long Sleeve            2500"
      ]
     },
     "execution_count": 32,
     "metadata": {},
     "output_type": "execute_result"
    }
   ],
   "source": [
    "dataset.index.name = \"Name\"\n",
    "dataset.head()"
   ]
  },
  {
   "cell_type": "markdown",
   "metadata": {},
   "source": [
    "### Here, i realized the \"Shirt Amount\" column is an integer but it's not assigned the correct data type. Hence, i manipulated it to bring it back to the right data type. Just understand the tools at your disposal and the task you want to execute. You can always get creative about how to go about it"
   ]
  },
  {
   "cell_type": "code",
   "execution_count": 33,
   "metadata": {},
   "outputs": [
    {
     "data": {
      "text/plain": [
       "array([2500, 2500, 2500, 2500, 2500, 2100, 2100, 2500, 2100, 2100, 2500,\n",
       "       2500, 2100, 2500, 2100, 2500, 2500, 2500, 2100, 2500, 2500, 2100,\n",
       "       2500, 2100, 2500, 2500, 2500, 2500, 2100, 2100, 2500, 2100, 2100,\n",
       "       2100, 2100, 2100, 2500,    0,    0, 2500, 2500, 2500, 2500,    0,\n",
       "          0, 2100, 2500, 2500, 2500], dtype=int64)"
      ]
     },
     "execution_count": 33,
     "metadata": {},
     "output_type": "execute_result"
    }
   ],
   "source": [
    "shortamount = np.array(dataset[\"T-Shirt Amount\"], dtype = np.int64)\n",
    "shortamount"
   ]
  },
  {
   "cell_type": "code",
   "execution_count": 34,
   "metadata": {
    "scrolled": false
   },
   "outputs": [
    {
     "data": {
      "text/plain": [
       "Name\n",
       "Victor T. Na'Allah                               2500\n",
       "Olajide Mattew                                   2500\n",
       "Abel Modu Timothy                                2500\n",
       "Egwim Jones Udojuaku                             2500\n",
       "Nwachukwu Emmanuel Benedict                      2500\n",
       "Adole John A.                                    2100\n",
       "Faleti Ayodeji Peter                             2100\n",
       "Ayantoye Ridwan Ayomide                          2500\n",
       "Marvellous  T. Isaac                             2100\n",
       "Shenge Raphael Saarshatar                        2100\n",
       "Reuben O.Enoch                                   2500\n",
       "Mercy Ajayi                                      2500\n",
       "Michael Kpoco                                    2100\n",
       "Saad                                             2500\n",
       "Terzungwe Caleb                                  2100\n",
       "Faith                                            2500\n",
       "Gonet Zion                                       2500\n",
       "Hawwau Adeboyin Adeyemo\\nFor => Jubrin Omeiza    2500\n",
       "Nicholas Otonoku                                 2100\n",
       "Timothy Ignitus Agbor                            2500\n",
       "Name: T-Shirt Amount, dtype: int64"
      ]
     },
     "execution_count": 34,
     "metadata": {},
     "output_type": "execute_result"
    }
   ],
   "source": [
    "dataset[\"T-Shirt Amount\"] = shortamount\n",
    "dataset[\"T-Shirt Amount\"].head(20)"
   ]
  },
  {
   "cell_type": "markdown",
   "metadata": {},
   "source": [
    "### The dataset is clean and ready for further analysis a d exploration to derive deep insights.\n",
    "\n",
    "###   But wait a minute, remember i mentioned the Dataset you'll be dealing with is 2 contained in the same file. You'll read the second file now, clean and merge it with the first one you've worked on"
   ]
  },
  {
   "cell_type": "markdown",
   "metadata": {},
   "source": [
    "### The second dataset has been imported and read. Notice that in the line of code used to import the file, \"sheet_name\" was set to 1. So it read the second sheet of the source file. When it's not included, that means it's on it's defaults that's set to 0. And automatically reads the first page of the source file"
   ]
  },
  {
   "cell_type": "code",
   "execution_count": 35,
   "metadata": {
    "scrolled": true
   },
   "outputs": [
    {
     "data": {
      "text/html": [
       "<div>\n",
       "<style scoped>\n",
       "    .dataframe tbody tr th:only-of-type {\n",
       "        vertical-align: middle;\n",
       "    }\n",
       "\n",
       "    .dataframe tbody tr th {\n",
       "        vertical-align: top;\n",
       "    }\n",
       "\n",
       "    .dataframe thead th {\n",
       "        text-align: right;\n",
       "    }\n",
       "</style>\n",
       "<table border=\"1\" class=\"dataframe\">\n",
       "  <thead>\n",
       "    <tr style=\"text-align: right;\">\n",
       "      <th></th>\n",
       "      <th>Unnamed: 0</th>\n",
       "      <th>Unnamed: 1</th>\n",
       "      <th>Unnamed: 2</th>\n",
       "      <th>Unnamed: 3</th>\n",
       "      <th>Unnamed: 4</th>\n",
       "      <th>Unnamed: 5</th>\n",
       "      <th>Unnamed: 6</th>\n",
       "      <th>Unnamed: 7</th>\n",
       "      <th>Unnamed: 8</th>\n",
       "    </tr>\n",
       "  </thead>\n",
       "  <tbody>\n",
       "    <tr>\n",
       "      <td>0</td>\n",
       "      <td>NaN</td>\n",
       "      <td>NaN</td>\n",
       "      <td>NaN</td>\n",
       "      <td>NaN</td>\n",
       "      <td>NaN</td>\n",
       "      <td>NaN</td>\n",
       "      <td>NaN</td>\n",
       "      <td>NaN</td>\n",
       "      <td>NaN</td>\n",
       "    </tr>\n",
       "    <tr>\n",
       "      <td>1</td>\n",
       "      <td>NaN</td>\n",
       "      <td>NaN</td>\n",
       "      <td>NaN</td>\n",
       "      <td>NaN</td>\n",
       "      <td>S/N</td>\n",
       "      <td>Name</td>\n",
       "      <td>Type</td>\n",
       "      <td>T-shirt</td>\n",
       "      <td>NaN</td>\n",
       "    </tr>\n",
       "    <tr>\n",
       "      <td>2</td>\n",
       "      <td>NaN</td>\n",
       "      <td>NaN</td>\n",
       "      <td>NaN</td>\n",
       "      <td>NaN</td>\n",
       "      <td>NaN</td>\n",
       "      <td>NaN</td>\n",
       "      <td>NaN</td>\n",
       "      <td>Type</td>\n",
       "      <td>Amount</td>\n",
       "    </tr>\n",
       "    <tr>\n",
       "      <td>3</td>\n",
       "      <td>NaN</td>\n",
       "      <td>NaN</td>\n",
       "      <td>NaN</td>\n",
       "      <td>NaN</td>\n",
       "      <td>1</td>\n",
       "      <td>Abuh E. Rasheed</td>\n",
       "      <td>Exco</td>\n",
       "      <td>Short Sleeve</td>\n",
       "      <td>2100</td>\n",
       "    </tr>\n",
       "    <tr>\n",
       "      <td>4</td>\n",
       "      <td>NaN</td>\n",
       "      <td>NaN</td>\n",
       "      <td>NaN</td>\n",
       "      <td>NaN</td>\n",
       "      <td>2</td>\n",
       "      <td>Didi Chukwuebuka V.</td>\n",
       "      <td>Exco</td>\n",
       "      <td>Long Sleeve</td>\n",
       "      <td>2500</td>\n",
       "    </tr>\n",
       "  </tbody>\n",
       "</table>\n",
       "</div>"
      ],
      "text/plain": [
       "   Unnamed: 0  Unnamed: 1  Unnamed: 2  Unnamed: 3 Unnamed: 4  \\\n",
       "0         NaN         NaN         NaN         NaN        NaN   \n",
       "1         NaN         NaN         NaN         NaN        S/N   \n",
       "2         NaN         NaN         NaN         NaN        NaN   \n",
       "3         NaN         NaN         NaN         NaN          1   \n",
       "4         NaN         NaN         NaN         NaN          2   \n",
       "\n",
       "             Unnamed: 5 Unnamed: 6    Unnamed: 7 Unnamed: 8  \n",
       "0                   NaN        NaN           NaN        NaN  \n",
       "1                  Name       Type       T-shirt        NaN  \n",
       "2                   NaN        NaN          Type     Amount  \n",
       "3       Abuh E. Rasheed       Exco  Short Sleeve       2100  \n",
       "4  Didi Chukwuebuka V.        Exco   Long Sleeve       2500  "
      ]
     },
     "execution_count": 35,
     "metadata": {},
     "output_type": "execute_result"
    }
   ],
   "source": [
    "dataset1 = pd.read_excel(\"Excursion Portfolio.xls\", sheet_name = 1)\n",
    "dataset1.head()"
   ]
  },
  {
   "cell_type": "markdown",
   "metadata": {},
   "source": [
    "### Drop the rows and columns of the dataset that contains \"nan\" all true"
   ]
  },
  {
   "cell_type": "code",
   "execution_count": 36,
   "metadata": {},
   "outputs": [],
   "source": [
    "dataset1.dropna(how = 'all', inplace = True)"
   ]
  },
  {
   "cell_type": "code",
   "execution_count": 37,
   "metadata": {},
   "outputs": [],
   "source": [
    "dataset1.dropna(how = 'all', axis = 1, inplace = True)"
   ]
  },
  {
   "cell_type": "code",
   "execution_count": 38,
   "metadata": {
    "scrolled": true
   },
   "outputs": [
    {
     "data": {
      "text/html": [
       "<div>\n",
       "<style scoped>\n",
       "    .dataframe tbody tr th:only-of-type {\n",
       "        vertical-align: middle;\n",
       "    }\n",
       "\n",
       "    .dataframe tbody tr th {\n",
       "        vertical-align: top;\n",
       "    }\n",
       "\n",
       "    .dataframe thead th {\n",
       "        text-align: right;\n",
       "    }\n",
       "</style>\n",
       "<table border=\"1\" class=\"dataframe\">\n",
       "  <thead>\n",
       "    <tr style=\"text-align: right;\">\n",
       "      <th></th>\n",
       "      <th>Unnamed: 4</th>\n",
       "      <th>Unnamed: 5</th>\n",
       "      <th>Unnamed: 6</th>\n",
       "      <th>Unnamed: 7</th>\n",
       "      <th>Unnamed: 8</th>\n",
       "    </tr>\n",
       "  </thead>\n",
       "  <tbody>\n",
       "    <tr>\n",
       "      <td>1</td>\n",
       "      <td>S/N</td>\n",
       "      <td>Name</td>\n",
       "      <td>Type</td>\n",
       "      <td>T-shirt</td>\n",
       "      <td>NaN</td>\n",
       "    </tr>\n",
       "    <tr>\n",
       "      <td>2</td>\n",
       "      <td>NaN</td>\n",
       "      <td>NaN</td>\n",
       "      <td>NaN</td>\n",
       "      <td>Type</td>\n",
       "      <td>Amount</td>\n",
       "    </tr>\n",
       "    <tr>\n",
       "      <td>3</td>\n",
       "      <td>1</td>\n",
       "      <td>Abuh E. Rasheed</td>\n",
       "      <td>Exco</td>\n",
       "      <td>Short Sleeve</td>\n",
       "      <td>2100</td>\n",
       "    </tr>\n",
       "    <tr>\n",
       "      <td>4</td>\n",
       "      <td>2</td>\n",
       "      <td>Didi Chukwuebuka V.</td>\n",
       "      <td>Exco</td>\n",
       "      <td>Long Sleeve</td>\n",
       "      <td>2500</td>\n",
       "    </tr>\n",
       "    <tr>\n",
       "      <td>5</td>\n",
       "      <td>3</td>\n",
       "      <td>Jonathan Ajiboye</td>\n",
       "      <td>Exco</td>\n",
       "      <td>Short Sleeve</td>\n",
       "      <td>2100</td>\n",
       "    </tr>\n",
       "  </tbody>\n",
       "</table>\n",
       "</div>"
      ],
      "text/plain": [
       "  Unnamed: 4            Unnamed: 5 Unnamed: 6    Unnamed: 7 Unnamed: 8\n",
       "1        S/N                  Name       Type       T-shirt        NaN\n",
       "2        NaN                   NaN        NaN          Type     Amount\n",
       "3          1       Abuh E. Rasheed       Exco  Short Sleeve       2100\n",
       "4          2  Didi Chukwuebuka V.        Exco   Long Sleeve       2500\n",
       "5          3      Jonathan Ajiboye       Exco  Short Sleeve       2100"
      ]
     },
     "execution_count": 38,
     "metadata": {},
     "output_type": "execute_result"
    }
   ],
   "source": [
    "dataset1.head()"
   ]
  },
  {
   "cell_type": "markdown",
   "metadata": {},
   "source": [
    "### Next, give your index label and column label appropriate names to make them more relatable.\n",
    "\n",
    "### Then drop the irrelevant rows and columsns respectively"
   ]
  },
  {
   "cell_type": "code",
   "execution_count": 39,
   "metadata": {},
   "outputs": [
    {
     "data": {
      "text/plain": [
       "['S/N', 'Name', 'Type', 'T-shirt', nan]"
      ]
     },
     "execution_count": 39,
     "metadata": {},
     "output_type": "execute_result"
    }
   ],
   "source": [
    "new_col1 = list(dataset1.loc[1])\n",
    "new_col1"
   ]
  },
  {
   "cell_type": "code",
   "execution_count": 40,
   "metadata": {},
   "outputs": [
    {
     "data": {
      "text/plain": [
       "['S/N', 'Name', 'Status', 'T-shirt', 'T-Shirt Amount']"
      ]
     },
     "execution_count": 40,
     "metadata": {},
     "output_type": "execute_result"
    }
   ],
   "source": [
    "new_col1[2] = \"Status\"\n",
    "new_col1[-1] = \"T-Shirt Amount\"\n",
    "new_col1"
   ]
  },
  {
   "cell_type": "code",
   "execution_count": 41,
   "metadata": {},
   "outputs": [],
   "source": [
    "dataset1.columns = new_col1"
   ]
  },
  {
   "cell_type": "code",
   "execution_count": 42,
   "metadata": {},
   "outputs": [],
   "source": [
    "dataset1.drop([1,2,16,17,27], inplace = True)"
   ]
  },
  {
   "cell_type": "code",
   "execution_count": 43,
   "metadata": {},
   "outputs": [],
   "source": [
    "dataset1.index = dataset1.Name"
   ]
  },
  {
   "cell_type": "code",
   "execution_count": 44,
   "metadata": {},
   "outputs": [],
   "source": [
    "dataset1.drop(\"Name\", axis =1, inplace = True)"
   ]
  },
  {
   "cell_type": "code",
   "execution_count": 45,
   "metadata": {},
   "outputs": [],
   "source": [
    "dataset1.drop(\"S/N\", axis = 1, inplace = True)"
   ]
  },
  {
   "cell_type": "markdown",
   "metadata": {},
   "source": [
    "### This first Dataset has a column called \"Amount Paid\", but that column is absent in the secomd dataset. Hence i created a new column in the second Dataset with the same name and values of zero all true.\n",
    "\n",
    "\n",
    "### I used the numpy zeros function to create the array and used that to create the required in the second Dataset.\n",
    "\n",
    "### Like i mentioned earlier on, just know your tools and understand the task you want to execute. There's no limitation to unleashing your creativity"
   ]
  },
  {
   "cell_type": "code",
   "execution_count": 46,
   "metadata": {
    "scrolled": true
   },
   "outputs": [
    {
     "data": {
      "text/plain": [
       "array([[0],\n",
       "       [0],\n",
       "       [0],\n",
       "       [0],\n",
       "       [0],\n",
       "       [0],\n",
       "       [0],\n",
       "       [0],\n",
       "       [0],\n",
       "       [0],\n",
       "       [0],\n",
       "       [0],\n",
       "       [0]], dtype=int64)"
      ]
     },
     "execution_count": 46,
     "metadata": {},
     "output_type": "execute_result"
    }
   ],
   "source": [
    "new_array = np.zeros((13,1), dtype = np.int64)\n",
    "new_array"
   ]
  },
  {
   "cell_type": "code",
   "execution_count": 47,
   "metadata": {
    "scrolled": true
   },
   "outputs": [
    {
     "data": {
      "text/html": [
       "<div>\n",
       "<style scoped>\n",
       "    .dataframe tbody tr th:only-of-type {\n",
       "        vertical-align: middle;\n",
       "    }\n",
       "\n",
       "    .dataframe tbody tr th {\n",
       "        vertical-align: top;\n",
       "    }\n",
       "\n",
       "    .dataframe thead th {\n",
       "        text-align: right;\n",
       "    }\n",
       "</style>\n",
       "<table border=\"1\" class=\"dataframe\">\n",
       "  <thead>\n",
       "    <tr style=\"text-align: right;\">\n",
       "      <th></th>\n",
       "      <th>Status</th>\n",
       "      <th>T-shirt</th>\n",
       "      <th>T-Shirt Amount</th>\n",
       "      <th>Amount Paid</th>\n",
       "    </tr>\n",
       "    <tr>\n",
       "      <th>Name</th>\n",
       "      <th></th>\n",
       "      <th></th>\n",
       "      <th></th>\n",
       "      <th></th>\n",
       "    </tr>\n",
       "  </thead>\n",
       "  <tbody>\n",
       "    <tr>\n",
       "      <td>Abuh E. Rasheed</td>\n",
       "      <td>Exco</td>\n",
       "      <td>Short Sleeve</td>\n",
       "      <td>2100</td>\n",
       "      <td>0</td>\n",
       "    </tr>\n",
       "    <tr>\n",
       "      <td>Didi Chukwuebuka V.</td>\n",
       "      <td>Exco</td>\n",
       "      <td>Long Sleeve</td>\n",
       "      <td>2500</td>\n",
       "      <td>0</td>\n",
       "    </tr>\n",
       "    <tr>\n",
       "      <td>Jonathan Ajiboye</td>\n",
       "      <td>Exco</td>\n",
       "      <td>Short Sleeve</td>\n",
       "      <td>2100</td>\n",
       "      <td>0</td>\n",
       "    </tr>\n",
       "    <tr>\n",
       "      <td>Yusuff Fatorisa</td>\n",
       "      <td>Exco</td>\n",
       "      <td>Short Sleeve</td>\n",
       "      <td>2100</td>\n",
       "      <td>0</td>\n",
       "    </tr>\n",
       "    <tr>\n",
       "      <td>Gabriel Alkali</td>\n",
       "      <td>Exco</td>\n",
       "      <td>Long Sleeve</td>\n",
       "      <td>2500</td>\n",
       "      <td>0</td>\n",
       "    </tr>\n",
       "  </tbody>\n",
       "</table>\n",
       "</div>"
      ],
      "text/plain": [
       "                     Status       T-shirt T-Shirt Amount  Amount Paid\n",
       "Name                                                                 \n",
       "Abuh E. Rasheed        Exco  Short Sleeve           2100            0\n",
       "Didi Chukwuebuka V.    Exco   Long Sleeve           2500            0\n",
       "Jonathan Ajiboye       Exco  Short Sleeve           2100            0\n",
       "Yusuff Fatorisa        Exco  Short Sleeve           2100            0\n",
       "Gabriel Alkali         Exco   Long Sleeve           2500            0"
      ]
     },
     "execution_count": 47,
     "metadata": {},
     "output_type": "execute_result"
    }
   ],
   "source": [
    "dataset1[\"Amount Paid\"] = new_array\n",
    "dataset1.head()"
   ]
  },
  {
   "cell_type": "markdown",
   "metadata": {},
   "source": [
    "### Like the first dataset, the \"Shirt _Amount\" column consist of integers but have the wrong data type. So i manipulated it bring it back to the right data type"
   ]
  },
  {
   "cell_type": "code",
   "execution_count": 48,
   "metadata": {},
   "outputs": [
    {
     "data": {
      "text/plain": [
       "array([2100, 2500, 2100, 2100, 2500, 2100, 2500, 2100, 2500, 2500, 2500,\n",
       "       2500, 2500], dtype=int64)"
      ]
     },
     "execution_count": 48,
     "metadata": {},
     "output_type": "execute_result"
    }
   ],
   "source": [
    "shortamount1 = np.array(dataset1[\"T-Shirt Amount\"], dtype = np.int64)\n",
    "shortamount1"
   ]
  },
  {
   "cell_type": "code",
   "execution_count": 49,
   "metadata": {},
   "outputs": [
    {
     "data": {
      "text/plain": [
       "Name\n",
       "Abuh E. Rasheed         2100\n",
       "Didi Chukwuebuka V.     2500\n",
       "Jonathan Ajiboye        2100\n",
       "Yusuff Fatorisa         2100\n",
       "Gabriel Alkali          2500\n",
       "Ebube Onuigbo           2100\n",
       "Sanusi Muhammad         2500\n",
       "Ameh Sunday             2100\n",
       "Bawa Vincent            2500\n",
       "Bala Monday             2500\n",
       "Mukaila Abdul-Rafiu     2500\n",
       "Cynthia John            2500\n",
       "Victor Chumnon          2500\n",
       "Name: T-Shirt Amount, dtype: int64"
      ]
     },
     "execution_count": 49,
     "metadata": {},
     "output_type": "execute_result"
    }
   ],
   "source": [
    "dataset1[\"T-Shirt Amount\"] = shortamount1\n",
    "dataset1[\"T-Shirt Amount\"]"
   ]
  },
  {
   "cell_type": "code",
   "execution_count": 50,
   "metadata": {},
   "outputs": [
    {
     "name": "stdout",
     "output_type": "stream",
     "text": [
      "<class 'pandas.core.frame.DataFrame'>\n",
      "Index: 13 entries, Abuh E. Rasheed to Victor Chumnon\n",
      "Data columns (total 4 columns):\n",
      "Status            13 non-null object\n",
      "T-shirt           13 non-null object\n",
      "T-Shirt Amount    13 non-null int64\n",
      "Amount Paid       13 non-null int64\n",
      "dtypes: int64(2), object(2)\n",
      "memory usage: 748.0+ bytes\n"
     ]
    }
   ],
   "source": [
    "dataset1.info()"
   ]
  },
  {
   "cell_type": "code",
   "execution_count": 51,
   "metadata": {},
   "outputs": [
    {
     "data": {
      "text/plain": [
       "['Status', 'Amount Paid', 'T-shirt', 'T-Shirt Amount']"
      ]
     },
     "execution_count": 51,
     "metadata": {},
     "output_type": "execute_result"
    }
   ],
   "source": [
    "recol = [\"Status\", \"Amount Paid\", \"T-shirt\", \"T-Shirt Amount\"]\n",
    "recol"
   ]
  },
  {
   "cell_type": "code",
   "execution_count": 52,
   "metadata": {
    "scrolled": true
   },
   "outputs": [
    {
     "data": {
      "text/html": [
       "<div>\n",
       "<style scoped>\n",
       "    .dataframe tbody tr th:only-of-type {\n",
       "        vertical-align: middle;\n",
       "    }\n",
       "\n",
       "    .dataframe tbody tr th {\n",
       "        vertical-align: top;\n",
       "    }\n",
       "\n",
       "    .dataframe thead th {\n",
       "        text-align: right;\n",
       "    }\n",
       "</style>\n",
       "<table border=\"1\" class=\"dataframe\">\n",
       "  <thead>\n",
       "    <tr style=\"text-align: right;\">\n",
       "      <th></th>\n",
       "      <th>Status</th>\n",
       "      <th>T-shirt</th>\n",
       "      <th>T-Shirt Amount</th>\n",
       "      <th>Amount Paid</th>\n",
       "    </tr>\n",
       "    <tr>\n",
       "      <th>Name</th>\n",
       "      <th></th>\n",
       "      <th></th>\n",
       "      <th></th>\n",
       "      <th></th>\n",
       "    </tr>\n",
       "  </thead>\n",
       "  <tbody>\n",
       "    <tr>\n",
       "      <td>Abuh E. Rasheed</td>\n",
       "      <td>Exco</td>\n",
       "      <td>Short Sleeve</td>\n",
       "      <td>2100</td>\n",
       "      <td>0</td>\n",
       "    </tr>\n",
       "    <tr>\n",
       "      <td>Didi Chukwuebuka V.</td>\n",
       "      <td>Exco</td>\n",
       "      <td>Long Sleeve</td>\n",
       "      <td>2500</td>\n",
       "      <td>0</td>\n",
       "    </tr>\n",
       "    <tr>\n",
       "      <td>Jonathan Ajiboye</td>\n",
       "      <td>Exco</td>\n",
       "      <td>Short Sleeve</td>\n",
       "      <td>2100</td>\n",
       "      <td>0</td>\n",
       "    </tr>\n",
       "    <tr>\n",
       "      <td>Yusuff Fatorisa</td>\n",
       "      <td>Exco</td>\n",
       "      <td>Short Sleeve</td>\n",
       "      <td>2100</td>\n",
       "      <td>0</td>\n",
       "    </tr>\n",
       "    <tr>\n",
       "      <td>Gabriel Alkali</td>\n",
       "      <td>Exco</td>\n",
       "      <td>Long Sleeve</td>\n",
       "      <td>2500</td>\n",
       "      <td>0</td>\n",
       "    </tr>\n",
       "  </tbody>\n",
       "</table>\n",
       "</div>"
      ],
      "text/plain": [
       "                     Status       T-shirt  T-Shirt Amount  Amount Paid\n",
       "Name                                                                  \n",
       "Abuh E. Rasheed        Exco  Short Sleeve            2100            0\n",
       "Didi Chukwuebuka V.    Exco   Long Sleeve            2500            0\n",
       "Jonathan Ajiboye       Exco  Short Sleeve            2100            0\n",
       "Yusuff Fatorisa        Exco  Short Sleeve            2100            0\n",
       "Gabriel Alkali         Exco   Long Sleeve            2500            0"
      ]
     },
     "execution_count": 52,
     "metadata": {},
     "output_type": "execute_result"
    }
   ],
   "source": [
    "dataset1.reindex(columns = recol)\n",
    "dataset1.head()"
   ]
  },
  {
   "cell_type": "markdown",
   "metadata": {},
   "source": [
    "### Both dataset are clean and ready. So use concat function to merge them together\n",
    "\n",
    "### i also rewrite it back into an excel file.\n",
    "\n",
    "## Now it's time for \n",
    "\n",
    "# \"DATA VISUALIZATION\""
   ]
  },
  {
   "cell_type": "code",
   "execution_count": 53,
   "metadata": {
    "scrolled": true
   },
   "outputs": [
    {
     "name": "stderr",
     "output_type": "stream",
     "text": [
      "/data/user/0/ru.iiec.pydroid3/files/arm-linux-androideabi/lib/python3.7/site-packages/ipykernel_launcher.py:1: FutureWarning: Sorting because non-concatenation axis is not aligned. A future version\n",
      "of pandas will change to not sort by default.\n",
      "\n",
      "To accept the future behavior, pass 'sort=False'.\n",
      "\n",
      "To retain the current behavior and silence the warning, pass 'sort=True'.\n",
      "\n",
      "  \"\"\"Entry point for launching an IPython kernel.\n"
     ]
    },
    {
     "data": {
      "text/html": [
       "<div>\n",
       "<style scoped>\n",
       "    .dataframe tbody tr th:only-of-type {\n",
       "        vertical-align: middle;\n",
       "    }\n",
       "\n",
       "    .dataframe tbody tr th {\n",
       "        vertical-align: top;\n",
       "    }\n",
       "\n",
       "    .dataframe thead th {\n",
       "        text-align: right;\n",
       "    }\n",
       "</style>\n",
       "<table border=\"1\" class=\"dataframe\">\n",
       "  <thead>\n",
       "    <tr style=\"text-align: right;\">\n",
       "      <th></th>\n",
       "      <th>Amount Paid</th>\n",
       "      <th>Status</th>\n",
       "      <th>T-Shirt Amount</th>\n",
       "      <th>T-shirt</th>\n",
       "    </tr>\n",
       "    <tr>\n",
       "      <th>Name</th>\n",
       "      <th></th>\n",
       "      <th></th>\n",
       "      <th></th>\n",
       "      <th></th>\n",
       "    </tr>\n",
       "  </thead>\n",
       "  <tbody>\n",
       "    <tr>\n",
       "      <td>Bawa Vincent</td>\n",
       "      <td>0</td>\n",
       "      <td>Exco</td>\n",
       "      <td>2500</td>\n",
       "      <td>Long Sleeve</td>\n",
       "    </tr>\n",
       "    <tr>\n",
       "      <td>Bala Monday</td>\n",
       "      <td>0</td>\n",
       "      <td>Exco</td>\n",
       "      <td>2500</td>\n",
       "      <td>Long Sleeve</td>\n",
       "    </tr>\n",
       "    <tr>\n",
       "      <td>Mukaila Abdul-Rafiu</td>\n",
       "      <td>0</td>\n",
       "      <td>Exco</td>\n",
       "      <td>2500</td>\n",
       "      <td>Long Sleeve</td>\n",
       "    </tr>\n",
       "    <tr>\n",
       "      <td>Cynthia John</td>\n",
       "      <td>0</td>\n",
       "      <td>Exco</td>\n",
       "      <td>2500</td>\n",
       "      <td>Long Sleeve</td>\n",
       "    </tr>\n",
       "    <tr>\n",
       "      <td>Victor Chumnon</td>\n",
       "      <td>0</td>\n",
       "      <td>Exco</td>\n",
       "      <td>2500</td>\n",
       "      <td>Long Sleeve</td>\n",
       "    </tr>\n",
       "  </tbody>\n",
       "</table>\n",
       "</div>"
      ],
      "text/plain": [
       "                     Amount Paid Status  T-Shirt Amount      T-shirt\n",
       "Name                                                                \n",
       "Bawa Vincent                   0   Exco            2500  Long Sleeve\n",
       "Bala Monday                    0   Exco            2500  Long Sleeve\n",
       "Mukaila Abdul-Rafiu            0   Exco            2500  Long Sleeve\n",
       "Cynthia John                   0   Exco            2500  Long Sleeve\n",
       "Victor Chumnon                 0   Exco            2500  Long Sleeve"
      ]
     },
     "execution_count": 53,
     "metadata": {},
     "output_type": "execute_result"
    }
   ],
   "source": [
    "comb_dataset = pd.concat([dataset,dataset1])\n",
    "comb_dataset.tail()"
   ]
  },
  {
   "cell_type": "code",
   "execution_count": 54,
   "metadata": {},
   "outputs": [],
   "source": [
    "comb_dataset.to_excel(\"ExcurPort.xlsx\")"
   ]
  },
  {
   "cell_type": "markdown",
   "metadata": {},
   "source": [
    "### I made use of the \"groupby\" fuction to extract the required data and plot the Visualization"
   ]
  },
  {
   "cell_type": "code",
   "execution_count": 55,
   "metadata": {
    "scrolled": false
   },
   "outputs": [
    {
     "data": {
      "text/plain": [
       "['Ex-Exco', 'Exco', 'Member']"
      ]
     },
     "execution_count": 55,
     "metadata": {},
     "output_type": "execute_result"
    }
   ],
   "source": [
    "class1 = comb_dataset[\"Amount Paid\"].groupby(comb_dataset[\"Status\"])\n",
    "class11 = class1.count()\n",
    "class11\n",
    "crass = list(class11.index)\n",
    "crass"
   ]
  },
  {
   "cell_type": "code",
   "execution_count": 56,
   "metadata": {},
   "outputs": [
    {
     "data": {
      "image/png": "[encoded data removed]",
      "text/plain": [
       "<Figure size 432x288 with 1 Axes>"
      ]
     },
     "metadata": {
      "needs_background": "light"
     },
     "output_type": "display_data"
    }
   ],
   "source": [
    "plt.bar(crass,class11)\n",
    "plt.title(\"Participants Bar-Chart\")\n",
    "plt.xlabel(\"Participant's Status\")\n",
    "plt.ylabel(\"Frequency\")\n",
    "plt.savefig(\"F-Dset.png\")"
   ]
  },
  {
   "cell_type": "code",
   "execution_count": 57,
   "metadata": {},
   "outputs": [
    {
     "data": {
      "image/png": "[encoded data removed]",
      "text/plain": [
       "<Figure size 432x288 with 1 Axes>"
      ]
     },
     "metadata": {},
     "output_type": "display_data"
    }
   ],
   "source": [
    "plt.pie(class11, labels = crass, startangle = 265, autopct =\"%1.2f%%\")\n",
    "plt.title(\"Participant's Pie-Chart\")\n",
    "plt.savefig(\"F-Dset1.png\")\n",
    "plt.show()"
   ]
  },
  {
   "cell_type": "code",
   "execution_count": 58,
   "metadata": {},
   "outputs": [
    {
     "data": {
      "text/plain": [
       "['Long Sleeve', 'No Sleeve', 'Short Sleeve']"
      ]
     },
     "execution_count": 58,
     "metadata": {},
     "output_type": "execute_result"
    }
   ],
   "source": [
    "class4 = comb_dataset[\"T-Shirt Amount\"].groupby(comb_dataset[\"T-shirt\"])\n",
    "class4.unique()\n",
    "class41 = class4.count()\n",
    "crass41 = list(class41.index)\n",
    "crass41"
   ]
  },
  {
   "cell_type": "code",
   "execution_count": 59,
   "metadata": {},
   "outputs": [
    {
     "data": {
      "image/png": "[encoded data removed]",
      "text/plain": [
       "<Figure size 432x288 with 1 Axes>"
      ]
     },
     "metadata": {
      "needs_background": "light"
     },
     "output_type": "display_data"
    }
   ],
   "source": [
    "plt.bar(crass41, class41)\n",
    "plt.title(\"T-Shirt Request & Choices\", fontstyle = 'normal')\n",
    "plt.xlabel(\"T-Shirt Types\", alpha = 0.7, fontstyle = 'italic')\n",
    "plt.ylabel(\"Frequency\", alpha = 0.7, fontstyle = 'italic')\n",
    "plt.savefig(\"F-Dset3.png\")"
   ]
  },
  {
   "cell_type": "code",
   "execution_count": 60,
   "metadata": {},
   "outputs": [
    {
     "data": {
      "image/png": "[encoded data removed]",
      "text/plain": [
       "<Figure size 432x288 with 1 Axes>"
      ]
     },
     "metadata": {},
     "output_type": "display_data"
    }
   ],
   "source": [
    "plt.pie(class41, labels = crass41, autopct =\"%1.2d%%\", startangle = 30)\n",
    "plt.title(\"T-Shirt Request Chart\")\n",
    "plt.savefig(\"F-Dset4.png\")"
   ]
  },
  {
   "cell_type": "code",
   "execution_count": 61,
   "metadata": {},
   "outputs": [],
   "source": [
    "parts = [0,0.9,8001,12001]\n",
    "parts_label = (\"Excos\",\"Ex-Excos\",\"Member\")"
   ]
  },
  {
   "cell_type": "code",
   "execution_count": 62,
   "metadata": {},
   "outputs": [
    {
     "data": {
      "text/plain": [
       "Member      42\n",
       "Excos       14\n",
       "Ex-Excos     6\n",
       "Name: Amount Paid, dtype: int64"
      ]
     },
     "execution_count": 62,
     "metadata": {},
     "output_type": "execute_result"
    }
   ],
   "source": [
    "class2 = pd.cut(comb_dataset[\"Amount Paid\"], parts, labels = parts_label, right = False)\n",
    "class21 = pd.value_counts(class2)\n",
    "class21"
   ]
  },
  {
   "cell_type": "code",
   "execution_count": 63,
   "metadata": {},
   "outputs": [
    {
     "data": {
      "image/png": "[encoded data removed]",
      "text/plain": [
       "<Figure size 432x288 with 1 Axes>"
      ]
     },
     "metadata": {
      "needs_background": "light"
     },
     "output_type": "display_data"
    }
   ],
   "source": [
    "class21.plot(kind = 'bar')\n",
    "plt.title(\"Categories Of Excursion Participants\")\n",
    "plt.xlabel(\"Categories\")\n",
    "plt.ylabel(\"Frequency\")\n",
    "plt.savefig(\"F-Dset5.png\")"
   ]
  },
  {
   "cell_type": "code",
   "execution_count": 64,
   "metadata": {},
   "outputs": [
    {
     "data": {
      "image/png": "[encoded data removed]",
      "text/plain": [
       "<Figure size 432x288 with 1 Axes>"
      ]
     },
     "metadata": {},
     "output_type": "display_data"
    }
   ],
   "source": [
    "class21.plot(kind = \"pie\", autopct =\"%1.2d%%\", startangle = 0)\n",
    "plt.ylabel('')\n",
    "plt.title(\"Excursion Participants\",alpha = 0.85)\n",
    "plt.savefig(\"F-Dset6.png\")"
   ]
  },
  {
   "cell_type": "code",
   "execution_count": 65,
   "metadata": {},
   "outputs": [],
   "source": [
    "tparts = [0,5,2101,2501]\n",
    "tparts_label = (\"No Sleeve\",\"Short Sleeve\", \"Long Sleeve\")"
   ]
  },
  {
   "cell_type": "code",
   "execution_count": 66,
   "metadata": {
    "scrolled": false
   },
   "outputs": [
    {
     "data": {
      "text/plain": [
       "Long Sleeve     36\n",
       "Short Sleeve    22\n",
       "No Sleeve        4\n",
       "Name: T-Shirt Amount, dtype: int64"
      ]
     },
     "execution_count": 66,
     "metadata": {},
     "output_type": "execute_result"
    }
   ],
   "source": [
    "class3 = pd.cut(comb_dataset[\"T-Shirt Amount\"],tparts, labels = tparts_label, right = False)\n",
    "class31 = pd.value_counts(class3)\n",
    "class31"
   ]
  },
  {
   "cell_type": "code",
   "execution_count": 67,
   "metadata": {},
   "outputs": [
    {
     "data": {
      "image/png": "[encoded data removed]",
      "text/plain": [
       "<Figure size 432x288 with 1 Axes>"
      ]
     },
     "metadata": {
      "needs_background": "light"
     },
     "output_type": "display_data"
    }
   ],
   "source": [
    "class31.plot(kind = \"bar\")\n",
    "plt.title(\"T-Shirts Requests & Choices\")\n",
    "plt.xlabel(\"T-Shirts Types\")\n",
    "plt.ylabel(\"Requests Frequency\")\n",
    "plt.savefig(\"F-Dset7.png\")"
   ]
  },
  {
   "cell_type": "code",
   "execution_count": 68,
   "metadata": {},
   "outputs": [
    {
     "data": {
      "image/png": "[encoded data removed]",
      "text/plain": [
       "<Figure size 432x288 with 1 Axes>"
      ]
     },
     "metadata": {},
     "output_type": "display_data"
    }
   ],
   "source": [
    "class31.plot(kind = \"pie\", startangle = 90, autopct = '%1.2d%%', label = (\"LONG\",\"SHORT\"))\n",
    "plt.ylabel(\"\")\n",
    "plt.title(\"T-Shirt Requests\", alpha = 0.85)\n",
    "plt.savefig(\"F-Dset8.png\")"
   ]
  },
  {
   "cell_type": "markdown",
   "metadata": {},
   "source": [
    "### There's still a whole bunch of amazing things you can do using the \"Matplotlib Library\". But I'll leave you to do more exploration and discoveries on your own"
   ]
  },
  {
   "cell_type": "code",
   "execution_count": 69,
   "metadata": {
    "scrolled": true
   },
   "outputs": [
    {
     "data": {
      "text/plain": [
       "array(['Member', 'Ex-Exco', 'Exco'], dtype=object)"
      ]
     },
     "execution_count": 69,
     "metadata": {},
     "output_type": "execute_result"
    }
   ],
   "source": [
    "comb_dataset[\"Status\"].unique()"
   ]
  },
  {
   "cell_type": "code",
   "execution_count": 70,
   "metadata": {},
   "outputs": [
    {
     "data": {
      "text/plain": [
       "array(['Long Sleeve', 'Short Sleeve', 'No Sleeve'], dtype=object)"
      ]
     },
     "execution_count": 70,
     "metadata": {},
     "output_type": "execute_result"
    }
   ],
   "source": [
    "comb_dataset[\"T-shirt\"].unique()"
   ]
  },
  {
   "cell_type": "code",
   "execution_count": 71,
   "metadata": {},
   "outputs": [
    {
     "data": {
      "text/plain": [
       "array([2500, 2100,    0], dtype=int64)"
      ]
     },
     "execution_count": 71,
     "metadata": {},
     "output_type": "execute_result"
    }
   ],
   "source": [
    "comb_dataset[\"T-Shirt Amount\"].unique()"
   ]
  },
  {
   "cell_type": "code",
   "execution_count": 72,
   "metadata": {},
   "outputs": [
    {
     "data": {
      "text/plain": [
       "array([12000,  7000,  5000,  8000, 10000,     0,  9000,  9500],\n",
       "      dtype=int64)"
      ]
     },
     "execution_count": 72,
     "metadata": {},
     "output_type": "execute_result"
    }
   ],
   "source": [
    "comb_dataset[\"Amount Paid\"].unique()"
   ]
  },
  {
   "cell_type": "code",
   "execution_count": 73,
   "metadata": {},
   "outputs": [
    {
     "data": {
      "text/html": [
       "<div>\n",
       "<style scoped>\n",
       "    .dataframe tbody tr th:only-of-type {\n",
       "        vertical-align: middle;\n",
       "    }\n",
       "\n",
       "    .dataframe tbody tr th {\n",
       "        vertical-align: top;\n",
       "    }\n",
       "\n",
       "    .dataframe thead th {\n",
       "        text-align: right;\n",
       "    }\n",
       "</style>\n",
       "<table border=\"1\" class=\"dataframe\">\n",
       "  <thead>\n",
       "    <tr style=\"text-align: right;\">\n",
       "      <th></th>\n",
       "      <th>Amount Paid</th>\n",
       "      <th>Status</th>\n",
       "      <th>T-Shirt Amount</th>\n",
       "      <th>T-shirt</th>\n",
       "    </tr>\n",
       "    <tr>\n",
       "      <th>Name</th>\n",
       "      <th></th>\n",
       "      <th></th>\n",
       "      <th></th>\n",
       "      <th></th>\n",
       "    </tr>\n",
       "  </thead>\n",
       "  <tbody>\n",
       "    <tr>\n",
       "      <td>Victor T. Na'Allah</td>\n",
       "      <td>12000</td>\n",
       "      <td>Member</td>\n",
       "      <td>2500</td>\n",
       "      <td>Long Sleeve</td>\n",
       "    </tr>\n",
       "    <tr>\n",
       "      <td>Olajide Mattew</td>\n",
       "      <td>12000</td>\n",
       "      <td>Member</td>\n",
       "      <td>2500</td>\n",
       "      <td>Long Sleeve</td>\n",
       "    </tr>\n",
       "    <tr>\n",
       "      <td>Abel Modu Timothy</td>\n",
       "      <td>12000</td>\n",
       "      <td>Member</td>\n",
       "      <td>2500</td>\n",
       "      <td>Long Sleeve</td>\n",
       "    </tr>\n",
       "    <tr>\n",
       "      <td>Egwim Jones Udojuaku</td>\n",
       "      <td>12000</td>\n",
       "      <td>Member</td>\n",
       "      <td>2500</td>\n",
       "      <td>Long Sleeve</td>\n",
       "    </tr>\n",
       "    <tr>\n",
       "      <td>Nwachukwu Emmanuel Benedict</td>\n",
       "      <td>12000</td>\n",
       "      <td>Member</td>\n",
       "      <td>2500</td>\n",
       "      <td>Long Sleeve</td>\n",
       "    </tr>\n",
       "    <tr>\n",
       "      <td>Adole John A.</td>\n",
       "      <td>12000</td>\n",
       "      <td>Member</td>\n",
       "      <td>2100</td>\n",
       "      <td>Short Sleeve</td>\n",
       "    </tr>\n",
       "    <tr>\n",
       "      <td>Faleti Ayodeji Peter</td>\n",
       "      <td>12000</td>\n",
       "      <td>Member</td>\n",
       "      <td>2100</td>\n",
       "      <td>Short Sleeve</td>\n",
       "    </tr>\n",
       "    <tr>\n",
       "      <td>Ayantoye Ridwan Ayomide</td>\n",
       "      <td>12000</td>\n",
       "      <td>Member</td>\n",
       "      <td>2500</td>\n",
       "      <td>Long Sleeve</td>\n",
       "    </tr>\n",
       "    <tr>\n",
       "      <td>Marvellous  T. Isaac</td>\n",
       "      <td>12000</td>\n",
       "      <td>Member</td>\n",
       "      <td>2100</td>\n",
       "      <td>Short Sleeve</td>\n",
       "    </tr>\n",
       "    <tr>\n",
       "      <td>Shenge Raphael Saarshatar</td>\n",
       "      <td>12000</td>\n",
       "      <td>Member</td>\n",
       "      <td>2100</td>\n",
       "      <td>Short Sleeve</td>\n",
       "    </tr>\n",
       "    <tr>\n",
       "      <td>Reuben O.Enoch</td>\n",
       "      <td>12000</td>\n",
       "      <td>Member</td>\n",
       "      <td>2500</td>\n",
       "      <td>Long Sleeve</td>\n",
       "    </tr>\n",
       "    <tr>\n",
       "      <td>Mercy Ajayi</td>\n",
       "      <td>12000</td>\n",
       "      <td>Member</td>\n",
       "      <td>2500</td>\n",
       "      <td>Long Sleeve</td>\n",
       "    </tr>\n",
       "    <tr>\n",
       "      <td>Saad</td>\n",
       "      <td>12000</td>\n",
       "      <td>Member</td>\n",
       "      <td>2500</td>\n",
       "      <td>Long Sleeve</td>\n",
       "    </tr>\n",
       "    <tr>\n",
       "      <td>Faith</td>\n",
       "      <td>12000</td>\n",
       "      <td>Member</td>\n",
       "      <td>2500</td>\n",
       "      <td>Long Sleeve</td>\n",
       "    </tr>\n",
       "    <tr>\n",
       "      <td>Gonet Zion</td>\n",
       "      <td>12000</td>\n",
       "      <td>Member</td>\n",
       "      <td>2500</td>\n",
       "      <td>Long Sleeve</td>\n",
       "    </tr>\n",
       "    <tr>\n",
       "      <td>Hawwau Adeboyin Adeyemo\\nFor =&gt; Jubrin Omeiza</td>\n",
       "      <td>12000</td>\n",
       "      <td>Member</td>\n",
       "      <td>2500</td>\n",
       "      <td>Long Sleeve</td>\n",
       "    </tr>\n",
       "    <tr>\n",
       "      <td>Nicholas Otonoku</td>\n",
       "      <td>12000</td>\n",
       "      <td>Member</td>\n",
       "      <td>2100</td>\n",
       "      <td>Short Sleeve</td>\n",
       "    </tr>\n",
       "    <tr>\n",
       "      <td>Timothy Ignitus Agbor</td>\n",
       "      <td>12000</td>\n",
       "      <td>Member</td>\n",
       "      <td>2500</td>\n",
       "      <td>Long Sleeve</td>\n",
       "    </tr>\n",
       "    <tr>\n",
       "      <td>Madumche Chidibere</td>\n",
       "      <td>12000</td>\n",
       "      <td>Member</td>\n",
       "      <td>2500</td>\n",
       "      <td>Long Sleeve</td>\n",
       "    </tr>\n",
       "    <tr>\n",
       "      <td>Effiong Ubon Alasi</td>\n",
       "      <td>12000</td>\n",
       "      <td>Member</td>\n",
       "      <td>2500</td>\n",
       "      <td>Long Sleeve</td>\n",
       "    </tr>\n",
       "    <tr>\n",
       "      <td>Daniel Overcomer</td>\n",
       "      <td>12000</td>\n",
       "      <td>Member</td>\n",
       "      <td>2100</td>\n",
       "      <td>Short Sleeve</td>\n",
       "    </tr>\n",
       "    <tr>\n",
       "      <td>Aguwa Wisdom</td>\n",
       "      <td>12000</td>\n",
       "      <td>Member</td>\n",
       "      <td>2500</td>\n",
       "      <td>Long Sleeve</td>\n",
       "    </tr>\n",
       "    <tr>\n",
       "      <td>Ganiyu Mujeeb</td>\n",
       "      <td>12000</td>\n",
       "      <td>Member</td>\n",
       "      <td>2500</td>\n",
       "      <td>Long Sleeve</td>\n",
       "    </tr>\n",
       "    <tr>\n",
       "      <td>Hezekiel Joel</td>\n",
       "      <td>12000</td>\n",
       "      <td>Member</td>\n",
       "      <td>2500</td>\n",
       "      <td>Long Sleeve</td>\n",
       "    </tr>\n",
       "    <tr>\n",
       "      <td>Shitu Mustapha Ibrahim</td>\n",
       "      <td>12000</td>\n",
       "      <td>Member</td>\n",
       "      <td>2500</td>\n",
       "      <td>Long Sleeve</td>\n",
       "    </tr>\n",
       "    <tr>\n",
       "      <td>Orogu Francis Israel</td>\n",
       "      <td>12000</td>\n",
       "      <td>Member</td>\n",
       "      <td>2100</td>\n",
       "      <td>Short Sleeve</td>\n",
       "    </tr>\n",
       "    <tr>\n",
       "      <td>Agha Elizabeth</td>\n",
       "      <td>12000</td>\n",
       "      <td>Member</td>\n",
       "      <td>2100</td>\n",
       "      <td>Short Sleeve</td>\n",
       "    </tr>\n",
       "    <tr>\n",
       "      <td>Muhammed Zainab</td>\n",
       "      <td>12000</td>\n",
       "      <td>Member</td>\n",
       "      <td>2500</td>\n",
       "      <td>Long Sleeve</td>\n",
       "    </tr>\n",
       "    <tr>\n",
       "      <td>Isaac Priscilla</td>\n",
       "      <td>12000</td>\n",
       "      <td>Member</td>\n",
       "      <td>2100</td>\n",
       "      <td>Short Sleeve</td>\n",
       "    </tr>\n",
       "    <tr>\n",
       "      <td>Paul Elizabeth Ladi</td>\n",
       "      <td>12000</td>\n",
       "      <td>Member</td>\n",
       "      <td>2100</td>\n",
       "      <td>Short Sleeve</td>\n",
       "    </tr>\n",
       "    <tr>\n",
       "      <td>Esinome Abraham</td>\n",
       "      <td>12000</td>\n",
       "      <td>Member</td>\n",
       "      <td>2100</td>\n",
       "      <td>Short Sleeve</td>\n",
       "    </tr>\n",
       "    <tr>\n",
       "      <td>Umeh Audu Ayigba</td>\n",
       "      <td>12000</td>\n",
       "      <td>Member</td>\n",
       "      <td>2100</td>\n",
       "      <td>Short Sleeve</td>\n",
       "    </tr>\n",
       "    <tr>\n",
       "      <td>Ukande Aondongu Cephas</td>\n",
       "      <td>12000</td>\n",
       "      <td>Member</td>\n",
       "      <td>2500</td>\n",
       "      <td>Long Sleeve</td>\n",
       "    </tr>\n",
       "    <tr>\n",
       "      <td>De-Gold David Tarki</td>\n",
       "      <td>12000</td>\n",
       "      <td>Member</td>\n",
       "      <td>2500</td>\n",
       "      <td>Long Sleeve</td>\n",
       "    </tr>\n",
       "    <tr>\n",
       "      <td>Shekinah Ajibola</td>\n",
       "      <td>12000</td>\n",
       "      <td>Member</td>\n",
       "      <td>2500</td>\n",
       "      <td>Long Sleeve</td>\n",
       "    </tr>\n",
       "    <tr>\n",
       "      <td>Ocheje Jeremiah</td>\n",
       "      <td>12000</td>\n",
       "      <td>Member</td>\n",
       "      <td>2100</td>\n",
       "      <td>Short Sleeve</td>\n",
       "    </tr>\n",
       "    <tr>\n",
       "      <td>Oguntowo Basit Ifedolapo</td>\n",
       "      <td>12000</td>\n",
       "      <td>Member</td>\n",
       "      <td>2500</td>\n",
       "      <td>Long Sleeve</td>\n",
       "    </tr>\n",
       "    <tr>\n",
       "      <td>Simeon Iganga</td>\n",
       "      <td>12000</td>\n",
       "      <td>Member</td>\n",
       "      <td>2500</td>\n",
       "      <td>Long Sleeve</td>\n",
       "    </tr>\n",
       "  </tbody>\n",
       "</table>\n",
       "</div>"
      ],
      "text/plain": [
       "                                               Amount Paid  Status  \\\n",
       "Name                                                                 \n",
       "Victor T. Na'Allah                                   12000  Member   \n",
       "Olajide Mattew                                       12000  Member   \n",
       "Abel Modu Timothy                                    12000  Member   \n",
       "Egwim Jones Udojuaku                                 12000  Member   \n",
       "Nwachukwu Emmanuel Benedict                          12000  Member   \n",
       "Adole John A.                                        12000  Member   \n",
       "Faleti Ayodeji Peter                                 12000  Member   \n",
       "Ayantoye Ridwan Ayomide                              12000  Member   \n",
       "Marvellous  T. Isaac                                 12000  Member   \n",
       "Shenge Raphael Saarshatar                            12000  Member   \n",
       "Reuben O.Enoch                                       12000  Member   \n",
       "Mercy Ajayi                                          12000  Member   \n",
       "Saad                                                 12000  Member   \n",
       "Faith                                                12000  Member   \n",
       "Gonet Zion                                           12000  Member   \n",
       "Hawwau Adeboyin Adeyemo\\nFor => Jubrin Omeiza        12000  Member   \n",
       "Nicholas Otonoku                                     12000  Member   \n",
       "Timothy Ignitus Agbor                                12000  Member   \n",
       "Madumche Chidibere                                   12000  Member   \n",
       "Effiong Ubon Alasi                                   12000  Member   \n",
       "Daniel Overcomer                                     12000  Member   \n",
       "Aguwa Wisdom                                         12000  Member   \n",
       "Ganiyu Mujeeb                                        12000  Member   \n",
       "Hezekiel Joel                                        12000  Member   \n",
       "Shitu Mustapha Ibrahim                               12000  Member   \n",
       "Orogu Francis Israel                                 12000  Member   \n",
       "Agha Elizabeth                                       12000  Member   \n",
       "Muhammed Zainab                                      12000  Member   \n",
       "Isaac Priscilla                                      12000  Member   \n",
       "Paul Elizabeth Ladi                                  12000  Member   \n",
       "Esinome Abraham                                      12000  Member   \n",
       "Umeh Audu Ayigba                                     12000  Member   \n",
       "Ukande Aondongu Cephas                               12000  Member   \n",
       "De-Gold David Tarki                                  12000  Member   \n",
       "Shekinah Ajibola                                     12000  Member   \n",
       "Ocheje Jeremiah                                      12000  Member   \n",
       "Oguntowo Basit Ifedolapo                             12000  Member   \n",
       "Simeon Iganga                                        12000  Member   \n",
       "\n",
       "                                               T-Shirt Amount       T-shirt  \n",
       "Name                                                                         \n",
       "Victor T. Na'Allah                                       2500   Long Sleeve  \n",
       "Olajide Mattew                                           2500   Long Sleeve  \n",
       "Abel Modu Timothy                                        2500   Long Sleeve  \n",
       "Egwim Jones Udojuaku                                     2500   Long Sleeve  \n",
       "Nwachukwu Emmanuel Benedict                              2500   Long Sleeve  \n",
       "Adole John A.                                            2100  Short Sleeve  \n",
       "Faleti Ayodeji Peter                                     2100  Short Sleeve  \n",
       "Ayantoye Ridwan Ayomide                                  2500   Long Sleeve  \n",
       "Marvellous  T. Isaac                                     2100  Short Sleeve  \n",
       "Shenge Raphael Saarshatar                                2100  Short Sleeve  \n",
       "Reuben O.Enoch                                           2500   Long Sleeve  \n",
       "Mercy Ajayi                                              2500   Long Sleeve  \n",
       "Saad                                                     2500   Long Sleeve  \n",
       "Faith                                                    2500   Long Sleeve  \n",
       "Gonet Zion                                               2500   Long Sleeve  \n",
       "Hawwau Adeboyin Adeyemo\\nFor => Jubrin Omeiza            2500   Long Sleeve  \n",
       "Nicholas Otonoku                                         2100  Short Sleeve  \n",
       "Timothy Ignitus Agbor                                    2500   Long Sleeve  \n",
       "Madumche Chidibere                                       2500   Long Sleeve  \n",
       "Effiong Ubon Alasi                                       2500   Long Sleeve  \n",
       "Daniel Overcomer                                         2100  Short Sleeve  \n",
       "Aguwa Wisdom                                             2500   Long Sleeve  \n",
       "Ganiyu Mujeeb                                            2500   Long Sleeve  \n",
       "Hezekiel Joel                                            2500   Long Sleeve  \n",
       "Shitu Mustapha Ibrahim                                   2500   Long Sleeve  \n",
       "Orogu Francis Israel                                     2100  Short Sleeve  \n",
       "Agha Elizabeth                                           2100  Short Sleeve  \n",
       "Muhammed Zainab                                          2500   Long Sleeve  \n",
       "Isaac Priscilla                                          2100  Short Sleeve  \n",
       "Paul Elizabeth Ladi                                      2100  Short Sleeve  \n",
       "Esinome Abraham                                          2100  Short Sleeve  \n",
       "Umeh Audu Ayigba                                         2100  Short Sleeve  \n",
       "Ukande Aondongu Cephas                                   2500   Long Sleeve  \n",
       "De-Gold David Tarki                                      2500   Long Sleeve  \n",
       "Shekinah Ajibola                                         2500   Long Sleeve  \n",
       "Ocheje Jeremiah                                          2100  Short Sleeve  \n",
       "Oguntowo Basit Ifedolapo                                 2500   Long Sleeve  \n",
       "Simeon Iganga                                            2500   Long Sleeve  "
      ]
     },
     "execution_count": 73,
     "metadata": {},
     "output_type": "execute_result"
    }
   ],
   "source": [
    "comb_dataset[comb_dataset[\"Amount Paid\"] == 12000]"
   ]
  },
  {
   "cell_type": "code",
   "execution_count": 74,
   "metadata": {},
   "outputs": [
    {
     "data": {
      "text/html": [
       "<div>\n",
       "<style scoped>\n",
       "    .dataframe tbody tr th:only-of-type {\n",
       "        vertical-align: middle;\n",
       "    }\n",
       "\n",
       "    .dataframe tbody tr th {\n",
       "        vertical-align: top;\n",
       "    }\n",
       "\n",
       "    .dataframe thead th {\n",
       "        text-align: right;\n",
       "    }\n",
       "</style>\n",
       "<table border=\"1\" class=\"dataframe\">\n",
       "  <thead>\n",
       "    <tr style=\"text-align: right;\">\n",
       "      <th></th>\n",
       "      <th>Amount Paid</th>\n",
       "      <th>Status</th>\n",
       "      <th>T-Shirt Amount</th>\n",
       "      <th>T-shirt</th>\n",
       "    </tr>\n",
       "    <tr>\n",
       "      <th>Name</th>\n",
       "      <th></th>\n",
       "      <th></th>\n",
       "      <th></th>\n",
       "      <th></th>\n",
       "    </tr>\n",
       "  </thead>\n",
       "  <tbody>\n",
       "    <tr>\n",
       "      <td>Nwokocha Ethelbert</td>\n",
       "      <td>8000</td>\n",
       "      <td>Ex-Exco</td>\n",
       "      <td>2100</td>\n",
       "      <td>Short Sleeve</td>\n",
       "    </tr>\n",
       "    <tr>\n",
       "      <td>Omaji Samuel Owoicho</td>\n",
       "      <td>8000</td>\n",
       "      <td>Ex-Exco</td>\n",
       "      <td>2100</td>\n",
       "      <td>Short Sleeve</td>\n",
       "    </tr>\n",
       "    <tr>\n",
       "      <td>Sarah Kauna Edoja</td>\n",
       "      <td>8000</td>\n",
       "      <td>Member</td>\n",
       "      <td>2500</td>\n",
       "      <td>Long Sleeve</td>\n",
       "    </tr>\n",
       "    <tr>\n",
       "      <td>Caleb Onuoja Aaron</td>\n",
       "      <td>8000</td>\n",
       "      <td>Ex-Exco</td>\n",
       "      <td>2500</td>\n",
       "      <td>Long Sleeve</td>\n",
       "    </tr>\n",
       "  </tbody>\n",
       "</table>\n",
       "</div>"
      ],
      "text/plain": [
       "                      Amount Paid   Status  T-Shirt Amount       T-shirt\n",
       "Name                                                                    \n",
       "Nwokocha Ethelbert           8000  Ex-Exco            2100  Short Sleeve\n",
       "Omaji Samuel Owoicho         8000  Ex-Exco            2100  Short Sleeve\n",
       "Sarah Kauna Edoja            8000   Member            2500   Long Sleeve\n",
       "Caleb Onuoja Aaron           8000  Ex-Exco            2500   Long Sleeve"
      ]
     },
     "execution_count": 74,
     "metadata": {},
     "output_type": "execute_result"
    }
   ],
   "source": [
    "comb_dataset[comb_dataset[\"Amount Paid\"] == 8000]"
   ]
  },
  {
   "cell_type": "code",
   "execution_count": 75,
   "metadata": {},
   "outputs": [
    {
     "data": {
      "text/html": [
       "<div>\n",
       "<style scoped>\n",
       "    .dataframe tbody tr th:only-of-type {\n",
       "        vertical-align: middle;\n",
       "    }\n",
       "\n",
       "    .dataframe tbody tr th {\n",
       "        vertical-align: top;\n",
       "    }\n",
       "\n",
       "    .dataframe thead th {\n",
       "        text-align: right;\n",
       "    }\n",
       "</style>\n",
       "<table border=\"1\" class=\"dataframe\">\n",
       "  <thead>\n",
       "    <tr style=\"text-align: right;\">\n",
       "      <th></th>\n",
       "      <th>Amount Paid</th>\n",
       "      <th>Status</th>\n",
       "      <th>T-Shirt Amount</th>\n",
       "      <th>T-shirt</th>\n",
       "    </tr>\n",
       "    <tr>\n",
       "      <th>Name</th>\n",
       "      <th></th>\n",
       "      <th></th>\n",
       "      <th></th>\n",
       "      <th></th>\n",
       "    </tr>\n",
       "  </thead>\n",
       "  <tbody>\n",
       "    <tr>\n",
       "      <td>Michael Kpoco</td>\n",
       "      <td>7000</td>\n",
       "      <td>Ex-Exco</td>\n",
       "      <td>2100</td>\n",
       "      <td>Short Sleeve</td>\n",
       "    </tr>\n",
       "    <tr>\n",
       "      <td>Terzungwe Caleb</td>\n",
       "      <td>5000</td>\n",
       "      <td>Ex-Exco</td>\n",
       "      <td>2100</td>\n",
       "      <td>Short Sleeve</td>\n",
       "    </tr>\n",
       "    <tr>\n",
       "      <td>Nwokocha Ethelbert</td>\n",
       "      <td>8000</td>\n",
       "      <td>Ex-Exco</td>\n",
       "      <td>2100</td>\n",
       "      <td>Short Sleeve</td>\n",
       "    </tr>\n",
       "    <tr>\n",
       "      <td>Omaji Samuel Owoicho</td>\n",
       "      <td>8000</td>\n",
       "      <td>Ex-Exco</td>\n",
       "      <td>2100</td>\n",
       "      <td>Short Sleeve</td>\n",
       "    </tr>\n",
       "    <tr>\n",
       "      <td>Sarah Kauna Edoja</td>\n",
       "      <td>8000</td>\n",
       "      <td>Member</td>\n",
       "      <td>2500</td>\n",
       "      <td>Long Sleeve</td>\n",
       "    </tr>\n",
       "    <tr>\n",
       "      <td>Ibrahim Hussein Chado</td>\n",
       "      <td>10000</td>\n",
       "      <td>Member</td>\n",
       "      <td>0</td>\n",
       "      <td>No Sleeve</td>\n",
       "    </tr>\n",
       "    <tr>\n",
       "      <td>Fatima Ganiyu</td>\n",
       "      <td>0</td>\n",
       "      <td>Member</td>\n",
       "      <td>0</td>\n",
       "      <td>No Sleeve</td>\n",
       "    </tr>\n",
       "    <tr>\n",
       "      <td>Daleng Elisha Nandi</td>\n",
       "      <td>9000</td>\n",
       "      <td>Member</td>\n",
       "      <td>2500</td>\n",
       "      <td>Long Sleeve</td>\n",
       "    </tr>\n",
       "    <tr>\n",
       "      <td>Adanu David</td>\n",
       "      <td>9000</td>\n",
       "      <td>Member</td>\n",
       "      <td>0</td>\n",
       "      <td>No Sleeve</td>\n",
       "    </tr>\n",
       "    <tr>\n",
       "      <td>Oche Muscle</td>\n",
       "      <td>9500</td>\n",
       "      <td>Member</td>\n",
       "      <td>0</td>\n",
       "      <td>No Sleeve</td>\n",
       "    </tr>\n",
       "    <tr>\n",
       "      <td>Caleb Onuoja Aaron</td>\n",
       "      <td>8000</td>\n",
       "      <td>Ex-Exco</td>\n",
       "      <td>2500</td>\n",
       "      <td>Long Sleeve</td>\n",
       "    </tr>\n",
       "    <tr>\n",
       "      <td>Abuh E. Rasheed</td>\n",
       "      <td>0</td>\n",
       "      <td>Exco</td>\n",
       "      <td>2100</td>\n",
       "      <td>Short Sleeve</td>\n",
       "    </tr>\n",
       "    <tr>\n",
       "      <td>Didi Chukwuebuka V.</td>\n",
       "      <td>0</td>\n",
       "      <td>Exco</td>\n",
       "      <td>2500</td>\n",
       "      <td>Long Sleeve</td>\n",
       "    </tr>\n",
       "    <tr>\n",
       "      <td>Jonathan Ajiboye</td>\n",
       "      <td>0</td>\n",
       "      <td>Exco</td>\n",
       "      <td>2100</td>\n",
       "      <td>Short Sleeve</td>\n",
       "    </tr>\n",
       "    <tr>\n",
       "      <td>Yusuff Fatorisa</td>\n",
       "      <td>0</td>\n",
       "      <td>Exco</td>\n",
       "      <td>2100</td>\n",
       "      <td>Short Sleeve</td>\n",
       "    </tr>\n",
       "    <tr>\n",
       "      <td>Gabriel Alkali</td>\n",
       "      <td>0</td>\n",
       "      <td>Exco</td>\n",
       "      <td>2500</td>\n",
       "      <td>Long Sleeve</td>\n",
       "    </tr>\n",
       "    <tr>\n",
       "      <td>Ebube Onuigbo</td>\n",
       "      <td>0</td>\n",
       "      <td>Exco</td>\n",
       "      <td>2100</td>\n",
       "      <td>Short Sleeve</td>\n",
       "    </tr>\n",
       "    <tr>\n",
       "      <td>Sanusi Muhammad</td>\n",
       "      <td>0</td>\n",
       "      <td>Exco</td>\n",
       "      <td>2500</td>\n",
       "      <td>Long Sleeve</td>\n",
       "    </tr>\n",
       "    <tr>\n",
       "      <td>Ameh Sunday</td>\n",
       "      <td>0</td>\n",
       "      <td>Exco</td>\n",
       "      <td>2100</td>\n",
       "      <td>Short Sleeve</td>\n",
       "    </tr>\n",
       "    <tr>\n",
       "      <td>Bawa Vincent</td>\n",
       "      <td>0</td>\n",
       "      <td>Exco</td>\n",
       "      <td>2500</td>\n",
       "      <td>Long Sleeve</td>\n",
       "    </tr>\n",
       "    <tr>\n",
       "      <td>Bala Monday</td>\n",
       "      <td>0</td>\n",
       "      <td>Exco</td>\n",
       "      <td>2500</td>\n",
       "      <td>Long Sleeve</td>\n",
       "    </tr>\n",
       "    <tr>\n",
       "      <td>Mukaila Abdul-Rafiu</td>\n",
       "      <td>0</td>\n",
       "      <td>Exco</td>\n",
       "      <td>2500</td>\n",
       "      <td>Long Sleeve</td>\n",
       "    </tr>\n",
       "    <tr>\n",
       "      <td>Cynthia John</td>\n",
       "      <td>0</td>\n",
       "      <td>Exco</td>\n",
       "      <td>2500</td>\n",
       "      <td>Long Sleeve</td>\n",
       "    </tr>\n",
       "    <tr>\n",
       "      <td>Victor Chumnon</td>\n",
       "      <td>0</td>\n",
       "      <td>Exco</td>\n",
       "      <td>2500</td>\n",
       "      <td>Long Sleeve</td>\n",
       "    </tr>\n",
       "  </tbody>\n",
       "</table>\n",
       "</div>"
      ],
      "text/plain": [
       "                       Amount Paid   Status  T-Shirt Amount       T-shirt\n",
       "Name                                                                     \n",
       "Michael Kpoco                 7000  Ex-Exco            2100  Short Sleeve\n",
       "Terzungwe Caleb               5000  Ex-Exco            2100  Short Sleeve\n",
       "Nwokocha Ethelbert            8000  Ex-Exco            2100  Short Sleeve\n",
       "Omaji Samuel Owoicho          8000  Ex-Exco            2100  Short Sleeve\n",
       "Sarah Kauna Edoja             8000   Member            2500   Long Sleeve\n",
       "Ibrahim Hussein Chado        10000   Member               0     No Sleeve\n",
       "Fatima Ganiyu                    0   Member               0     No Sleeve\n",
       "Daleng Elisha Nandi           9000   Member            2500   Long Sleeve\n",
       "Adanu David                   9000   Member               0     No Sleeve\n",
       "Oche Muscle                   9500   Member               0     No Sleeve\n",
       "Caleb Onuoja Aaron            8000  Ex-Exco            2500   Long Sleeve\n",
       "Abuh E. Rasheed                  0     Exco            2100  Short Sleeve\n",
       "Didi Chukwuebuka V.              0     Exco            2500   Long Sleeve\n",
       "Jonathan Ajiboye                 0     Exco            2100  Short Sleeve\n",
       "Yusuff Fatorisa                  0     Exco            2100  Short Sleeve\n",
       "Gabriel Alkali                   0     Exco            2500   Long Sleeve\n",
       "Ebube Onuigbo                    0     Exco            2100  Short Sleeve\n",
       "Sanusi Muhammad                  0     Exco            2500   Long Sleeve\n",
       "Ameh Sunday                      0     Exco            2100  Short Sleeve\n",
       "Bawa Vincent                     0     Exco            2500   Long Sleeve\n",
       "Bala Monday                      0     Exco            2500   Long Sleeve\n",
       "Mukaila Abdul-Rafiu              0     Exco            2500   Long Sleeve\n",
       "Cynthia John                     0     Exco            2500   Long Sleeve\n",
       "Victor Chumnon                   0     Exco            2500   Long Sleeve"
      ]
     },
     "execution_count": 75,
     "metadata": {},
     "output_type": "execute_result"
    }
   ],
   "source": [
    "comb_dataset[comb_dataset[\"Amount Paid\"] < 12000]"
   ]
  },
  {
   "cell_type": "code",
   "execution_count": 76,
   "metadata": {},
   "outputs": [
    {
     "data": {
      "text/html": [
       "<div>\n",
       "<style scoped>\n",
       "    .dataframe tbody tr th:only-of-type {\n",
       "        vertical-align: middle;\n",
       "    }\n",
       "\n",
       "    .dataframe tbody tr th {\n",
       "        vertical-align: top;\n",
       "    }\n",
       "\n",
       "    .dataframe thead th {\n",
       "        text-align: right;\n",
       "    }\n",
       "</style>\n",
       "<table border=\"1\" class=\"dataframe\">\n",
       "  <thead>\n",
       "    <tr style=\"text-align: right;\">\n",
       "      <th></th>\n",
       "      <th>Amount Paid</th>\n",
       "      <th>Status</th>\n",
       "      <th>T-Shirt Amount</th>\n",
       "      <th>T-shirt</th>\n",
       "    </tr>\n",
       "    <tr>\n",
       "      <th>Name</th>\n",
       "      <th></th>\n",
       "      <th></th>\n",
       "      <th></th>\n",
       "      <th></th>\n",
       "    </tr>\n",
       "  </thead>\n",
       "  <tbody>\n",
       "    <tr>\n",
       "      <td>Victor T. Na'Allah</td>\n",
       "      <td>12000</td>\n",
       "      <td>Member</td>\n",
       "      <td>2500</td>\n",
       "      <td>Long Sleeve</td>\n",
       "    </tr>\n",
       "    <tr>\n",
       "      <td>Olajide Mattew</td>\n",
       "      <td>12000</td>\n",
       "      <td>Member</td>\n",
       "      <td>2500</td>\n",
       "      <td>Long Sleeve</td>\n",
       "    </tr>\n",
       "    <tr>\n",
       "      <td>Abel Modu Timothy</td>\n",
       "      <td>12000</td>\n",
       "      <td>Member</td>\n",
       "      <td>2500</td>\n",
       "      <td>Long Sleeve</td>\n",
       "    </tr>\n",
       "    <tr>\n",
       "      <td>Egwim Jones Udojuaku</td>\n",
       "      <td>12000</td>\n",
       "      <td>Member</td>\n",
       "      <td>2500</td>\n",
       "      <td>Long Sleeve</td>\n",
       "    </tr>\n",
       "    <tr>\n",
       "      <td>Nwachukwu Emmanuel Benedict</td>\n",
       "      <td>12000</td>\n",
       "      <td>Member</td>\n",
       "      <td>2500</td>\n",
       "      <td>Long Sleeve</td>\n",
       "    </tr>\n",
       "    <tr>\n",
       "      <td>Adole John A.</td>\n",
       "      <td>12000</td>\n",
       "      <td>Member</td>\n",
       "      <td>2100</td>\n",
       "      <td>Short Sleeve</td>\n",
       "    </tr>\n",
       "    <tr>\n",
       "      <td>Faleti Ayodeji Peter</td>\n",
       "      <td>12000</td>\n",
       "      <td>Member</td>\n",
       "      <td>2100</td>\n",
       "      <td>Short Sleeve</td>\n",
       "    </tr>\n",
       "    <tr>\n",
       "      <td>Ayantoye Ridwan Ayomide</td>\n",
       "      <td>12000</td>\n",
       "      <td>Member</td>\n",
       "      <td>2500</td>\n",
       "      <td>Long Sleeve</td>\n",
       "    </tr>\n",
       "    <tr>\n",
       "      <td>Marvellous  T. Isaac</td>\n",
       "      <td>12000</td>\n",
       "      <td>Member</td>\n",
       "      <td>2100</td>\n",
       "      <td>Short Sleeve</td>\n",
       "    </tr>\n",
       "    <tr>\n",
       "      <td>Shenge Raphael Saarshatar</td>\n",
       "      <td>12000</td>\n",
       "      <td>Member</td>\n",
       "      <td>2100</td>\n",
       "      <td>Short Sleeve</td>\n",
       "    </tr>\n",
       "    <tr>\n",
       "      <td>Reuben O.Enoch</td>\n",
       "      <td>12000</td>\n",
       "      <td>Member</td>\n",
       "      <td>2500</td>\n",
       "      <td>Long Sleeve</td>\n",
       "    </tr>\n",
       "    <tr>\n",
       "      <td>Mercy Ajayi</td>\n",
       "      <td>12000</td>\n",
       "      <td>Member</td>\n",
       "      <td>2500</td>\n",
       "      <td>Long Sleeve</td>\n",
       "    </tr>\n",
       "    <tr>\n",
       "      <td>Saad</td>\n",
       "      <td>12000</td>\n",
       "      <td>Member</td>\n",
       "      <td>2500</td>\n",
       "      <td>Long Sleeve</td>\n",
       "    </tr>\n",
       "    <tr>\n",
       "      <td>Faith</td>\n",
       "      <td>12000</td>\n",
       "      <td>Member</td>\n",
       "      <td>2500</td>\n",
       "      <td>Long Sleeve</td>\n",
       "    </tr>\n",
       "    <tr>\n",
       "      <td>Gonet Zion</td>\n",
       "      <td>12000</td>\n",
       "      <td>Member</td>\n",
       "      <td>2500</td>\n",
       "      <td>Long Sleeve</td>\n",
       "    </tr>\n",
       "    <tr>\n",
       "      <td>Hawwau Adeboyin Adeyemo\\nFor =&gt; Jubrin Omeiza</td>\n",
       "      <td>12000</td>\n",
       "      <td>Member</td>\n",
       "      <td>2500</td>\n",
       "      <td>Long Sleeve</td>\n",
       "    </tr>\n",
       "    <tr>\n",
       "      <td>Nicholas Otonoku</td>\n",
       "      <td>12000</td>\n",
       "      <td>Member</td>\n",
       "      <td>2100</td>\n",
       "      <td>Short Sleeve</td>\n",
       "    </tr>\n",
       "    <tr>\n",
       "      <td>Timothy Ignitus Agbor</td>\n",
       "      <td>12000</td>\n",
       "      <td>Member</td>\n",
       "      <td>2500</td>\n",
       "      <td>Long Sleeve</td>\n",
       "    </tr>\n",
       "    <tr>\n",
       "      <td>Madumche Chidibere</td>\n",
       "      <td>12000</td>\n",
       "      <td>Member</td>\n",
       "      <td>2500</td>\n",
       "      <td>Long Sleeve</td>\n",
       "    </tr>\n",
       "    <tr>\n",
       "      <td>Effiong Ubon Alasi</td>\n",
       "      <td>12000</td>\n",
       "      <td>Member</td>\n",
       "      <td>2500</td>\n",
       "      <td>Long Sleeve</td>\n",
       "    </tr>\n",
       "    <tr>\n",
       "      <td>Daniel Overcomer</td>\n",
       "      <td>12000</td>\n",
       "      <td>Member</td>\n",
       "      <td>2100</td>\n",
       "      <td>Short Sleeve</td>\n",
       "    </tr>\n",
       "    <tr>\n",
       "      <td>Aguwa Wisdom</td>\n",
       "      <td>12000</td>\n",
       "      <td>Member</td>\n",
       "      <td>2500</td>\n",
       "      <td>Long Sleeve</td>\n",
       "    </tr>\n",
       "    <tr>\n",
       "      <td>Ganiyu Mujeeb</td>\n",
       "      <td>12000</td>\n",
       "      <td>Member</td>\n",
       "      <td>2500</td>\n",
       "      <td>Long Sleeve</td>\n",
       "    </tr>\n",
       "    <tr>\n",
       "      <td>Hezekiel Joel</td>\n",
       "      <td>12000</td>\n",
       "      <td>Member</td>\n",
       "      <td>2500</td>\n",
       "      <td>Long Sleeve</td>\n",
       "    </tr>\n",
       "    <tr>\n",
       "      <td>Shitu Mustapha Ibrahim</td>\n",
       "      <td>12000</td>\n",
       "      <td>Member</td>\n",
       "      <td>2500</td>\n",
       "      <td>Long Sleeve</td>\n",
       "    </tr>\n",
       "    <tr>\n",
       "      <td>Orogu Francis Israel</td>\n",
       "      <td>12000</td>\n",
       "      <td>Member</td>\n",
       "      <td>2100</td>\n",
       "      <td>Short Sleeve</td>\n",
       "    </tr>\n",
       "    <tr>\n",
       "      <td>Agha Elizabeth</td>\n",
       "      <td>12000</td>\n",
       "      <td>Member</td>\n",
       "      <td>2100</td>\n",
       "      <td>Short Sleeve</td>\n",
       "    </tr>\n",
       "    <tr>\n",
       "      <td>Muhammed Zainab</td>\n",
       "      <td>12000</td>\n",
       "      <td>Member</td>\n",
       "      <td>2500</td>\n",
       "      <td>Long Sleeve</td>\n",
       "    </tr>\n",
       "    <tr>\n",
       "      <td>Isaac Priscilla</td>\n",
       "      <td>12000</td>\n",
       "      <td>Member</td>\n",
       "      <td>2100</td>\n",
       "      <td>Short Sleeve</td>\n",
       "    </tr>\n",
       "    <tr>\n",
       "      <td>Paul Elizabeth Ladi</td>\n",
       "      <td>12000</td>\n",
       "      <td>Member</td>\n",
       "      <td>2100</td>\n",
       "      <td>Short Sleeve</td>\n",
       "    </tr>\n",
       "    <tr>\n",
       "      <td>Esinome Abraham</td>\n",
       "      <td>12000</td>\n",
       "      <td>Member</td>\n",
       "      <td>2100</td>\n",
       "      <td>Short Sleeve</td>\n",
       "    </tr>\n",
       "    <tr>\n",
       "      <td>Umeh Audu Ayigba</td>\n",
       "      <td>12000</td>\n",
       "      <td>Member</td>\n",
       "      <td>2100</td>\n",
       "      <td>Short Sleeve</td>\n",
       "    </tr>\n",
       "    <tr>\n",
       "      <td>Sarah Kauna Edoja</td>\n",
       "      <td>8000</td>\n",
       "      <td>Member</td>\n",
       "      <td>2500</td>\n",
       "      <td>Long Sleeve</td>\n",
       "    </tr>\n",
       "    <tr>\n",
       "      <td>Ibrahim Hussein Chado</td>\n",
       "      <td>10000</td>\n",
       "      <td>Member</td>\n",
       "      <td>0</td>\n",
       "      <td>No Sleeve</td>\n",
       "    </tr>\n",
       "    <tr>\n",
       "      <td>Fatima Ganiyu</td>\n",
       "      <td>0</td>\n",
       "      <td>Member</td>\n",
       "      <td>0</td>\n",
       "      <td>No Sleeve</td>\n",
       "    </tr>\n",
       "    <tr>\n",
       "      <td>Daleng Elisha Nandi</td>\n",
       "      <td>9000</td>\n",
       "      <td>Member</td>\n",
       "      <td>2500</td>\n",
       "      <td>Long Sleeve</td>\n",
       "    </tr>\n",
       "    <tr>\n",
       "      <td>Ukande Aondongu Cephas</td>\n",
       "      <td>12000</td>\n",
       "      <td>Member</td>\n",
       "      <td>2500</td>\n",
       "      <td>Long Sleeve</td>\n",
       "    </tr>\n",
       "    <tr>\n",
       "      <td>De-Gold David Tarki</td>\n",
       "      <td>12000</td>\n",
       "      <td>Member</td>\n",
       "      <td>2500</td>\n",
       "      <td>Long Sleeve</td>\n",
       "    </tr>\n",
       "    <tr>\n",
       "      <td>Shekinah Ajibola</td>\n",
       "      <td>12000</td>\n",
       "      <td>Member</td>\n",
       "      <td>2500</td>\n",
       "      <td>Long Sleeve</td>\n",
       "    </tr>\n",
       "    <tr>\n",
       "      <td>Adanu David</td>\n",
       "      <td>9000</td>\n",
       "      <td>Member</td>\n",
       "      <td>0</td>\n",
       "      <td>No Sleeve</td>\n",
       "    </tr>\n",
       "    <tr>\n",
       "      <td>Oche Muscle</td>\n",
       "      <td>9500</td>\n",
       "      <td>Member</td>\n",
       "      <td>0</td>\n",
       "      <td>No Sleeve</td>\n",
       "    </tr>\n",
       "    <tr>\n",
       "      <td>Ocheje Jeremiah</td>\n",
       "      <td>12000</td>\n",
       "      <td>Member</td>\n",
       "      <td>2100</td>\n",
       "      <td>Short Sleeve</td>\n",
       "    </tr>\n",
       "    <tr>\n",
       "      <td>Oguntowo Basit Ifedolapo</td>\n",
       "      <td>12000</td>\n",
       "      <td>Member</td>\n",
       "      <td>2500</td>\n",
       "      <td>Long Sleeve</td>\n",
       "    </tr>\n",
       "    <tr>\n",
       "      <td>Simeon Iganga</td>\n",
       "      <td>12000</td>\n",
       "      <td>Member</td>\n",
       "      <td>2500</td>\n",
       "      <td>Long Sleeve</td>\n",
       "    </tr>\n",
       "  </tbody>\n",
       "</table>\n",
       "</div>"
      ],
      "text/plain": [
       "                                               Amount Paid  Status  \\\n",
       "Name                                                                 \n",
       "Victor T. Na'Allah                                   12000  Member   \n",
       "Olajide Mattew                                       12000  Member   \n",
       "Abel Modu Timothy                                    12000  Member   \n",
       "Egwim Jones Udojuaku                                 12000  Member   \n",
       "Nwachukwu Emmanuel Benedict                          12000  Member   \n",
       "Adole John A.                                        12000  Member   \n",
       "Faleti Ayodeji Peter                                 12000  Member   \n",
       "Ayantoye Ridwan Ayomide                              12000  Member   \n",
       "Marvellous  T. Isaac                                 12000  Member   \n",
       "Shenge Raphael Saarshatar                            12000  Member   \n",
       "Reuben O.Enoch                                       12000  Member   \n",
       "Mercy Ajayi                                          12000  Member   \n",
       "Saad                                                 12000  Member   \n",
       "Faith                                                12000  Member   \n",
       "Gonet Zion                                           12000  Member   \n",
       "Hawwau Adeboyin Adeyemo\\nFor => Jubrin Omeiza        12000  Member   \n",
       "Nicholas Otonoku                                     12000  Member   \n",
       "Timothy Ignitus Agbor                                12000  Member   \n",
       "Madumche Chidibere                                   12000  Member   \n",
       "Effiong Ubon Alasi                                   12000  Member   \n",
       "Daniel Overcomer                                     12000  Member   \n",
       "Aguwa Wisdom                                         12000  Member   \n",
       "Ganiyu Mujeeb                                        12000  Member   \n",
       "Hezekiel Joel                                        12000  Member   \n",
       "Shitu Mustapha Ibrahim                               12000  Member   \n",
       "Orogu Francis Israel                                 12000  Member   \n",
       "Agha Elizabeth                                       12000  Member   \n",
       "Muhammed Zainab                                      12000  Member   \n",
       "Isaac Priscilla                                      12000  Member   \n",
       "Paul Elizabeth Ladi                                  12000  Member   \n",
       "Esinome Abraham                                      12000  Member   \n",
       "Umeh Audu Ayigba                                     12000  Member   \n",
       "Sarah Kauna Edoja                                     8000  Member   \n",
       "Ibrahim Hussein Chado                                10000  Member   \n",
       "Fatima Ganiyu                                            0  Member   \n",
       "Daleng Elisha Nandi                                   9000  Member   \n",
       "Ukande Aondongu Cephas                               12000  Member   \n",
       "De-Gold David Tarki                                  12000  Member   \n",
       "Shekinah Ajibola                                     12000  Member   \n",
       "Adanu David                                           9000  Member   \n",
       "Oche Muscle                                           9500  Member   \n",
       "Ocheje Jeremiah                                      12000  Member   \n",
       "Oguntowo Basit Ifedolapo                             12000  Member   \n",
       "Simeon Iganga                                        12000  Member   \n",
       "\n",
       "                                               T-Shirt Amount       T-shirt  \n",
       "Name                                                                         \n",
       "Victor T. Na'Allah                                       2500   Long Sleeve  \n",
       "Olajide Mattew                                           2500   Long Sleeve  \n",
       "Abel Modu Timothy                                        2500   Long Sleeve  \n",
       "Egwim Jones Udojuaku                                     2500   Long Sleeve  \n",
       "Nwachukwu Emmanuel Benedict                              2500   Long Sleeve  \n",
       "Adole John A.                                            2100  Short Sleeve  \n",
       "Faleti Ayodeji Peter                                     2100  Short Sleeve  \n",
       "Ayantoye Ridwan Ayomide                                  2500   Long Sleeve  \n",
       "Marvellous  T. Isaac                                     2100  Short Sleeve  \n",
       "Shenge Raphael Saarshatar                                2100  Short Sleeve  \n",
       "Reuben O.Enoch                                           2500   Long Sleeve  \n",
       "Mercy Ajayi                                              2500   Long Sleeve  \n",
       "Saad                                                     2500   Long Sleeve  \n",
       "Faith                                                    2500   Long Sleeve  \n",
       "Gonet Zion                                               2500   Long Sleeve  \n",
       "Hawwau Adeboyin Adeyemo\\nFor => Jubrin Omeiza            2500   Long Sleeve  \n",
       "Nicholas Otonoku                                         2100  Short Sleeve  \n",
       "Timothy Ignitus Agbor                                    2500   Long Sleeve  \n",
       "Madumche Chidibere                                       2500   Long Sleeve  \n",
       "Effiong Ubon Alasi                                       2500   Long Sleeve  \n",
       "Daniel Overcomer                                         2100  Short Sleeve  \n",
       "Aguwa Wisdom                                             2500   Long Sleeve  \n",
       "Ganiyu Mujeeb                                            2500   Long Sleeve  \n",
       "Hezekiel Joel                                            2500   Long Sleeve  \n",
       "Shitu Mustapha Ibrahim                                   2500   Long Sleeve  \n",
       "Orogu Francis Israel                                     2100  Short Sleeve  \n",
       "Agha Elizabeth                                           2100  Short Sleeve  \n",
       "Muhammed Zainab                                          2500   Long Sleeve  \n",
       "Isaac Priscilla                                          2100  Short Sleeve  \n",
       "Paul Elizabeth Ladi                                      2100  Short Sleeve  \n",
       "Esinome Abraham                                          2100  Short Sleeve  \n",
       "Umeh Audu Ayigba                                         2100  Short Sleeve  \n",
       "Sarah Kauna Edoja                                        2500   Long Sleeve  \n",
       "Ibrahim Hussein Chado                                       0     No Sleeve  \n",
       "Fatima Ganiyu                                               0     No Sleeve  \n",
       "Daleng Elisha Nandi                                      2500   Long Sleeve  \n",
       "Ukande Aondongu Cephas                                   2500   Long Sleeve  \n",
       "De-Gold David Tarki                                      2500   Long Sleeve  \n",
       "Shekinah Ajibola                                         2500   Long Sleeve  \n",
       "Adanu David                                                 0     No Sleeve  \n",
       "Oche Muscle                                                 0     No Sleeve  \n",
       "Ocheje Jeremiah                                          2100  Short Sleeve  \n",
       "Oguntowo Basit Ifedolapo                                 2500   Long Sleeve  \n",
       "Simeon Iganga                                            2500   Long Sleeve  "
      ]
     },
     "execution_count": 76,
     "metadata": {},
     "output_type": "execute_result"
    }
   ],
   "source": [
    "comb_dataset[comb_dataset[\"Status\"] == \"Member\"]"
   ]
  },
  {
   "cell_type": "code",
   "execution_count": 77,
   "metadata": {
    "scrolled": false
   },
   "outputs": [
    {
     "data": {
      "text/html": [
       "<div>\n",
       "<style scoped>\n",
       "    .dataframe tbody tr th:only-of-type {\n",
       "        vertical-align: middle;\n",
       "    }\n",
       "\n",
       "    .dataframe tbody tr th {\n",
       "        vertical-align: top;\n",
       "    }\n",
       "\n",
       "    .dataframe thead th {\n",
       "        text-align: right;\n",
       "    }\n",
       "</style>\n",
       "<table border=\"1\" class=\"dataframe\">\n",
       "  <thead>\n",
       "    <tr style=\"text-align: right;\">\n",
       "      <th></th>\n",
       "      <th>Amount Paid</th>\n",
       "      <th>Status</th>\n",
       "      <th>T-Shirt Amount</th>\n",
       "      <th>T-shirt</th>\n",
       "    </tr>\n",
       "    <tr>\n",
       "      <th>Name</th>\n",
       "      <th></th>\n",
       "      <th></th>\n",
       "      <th></th>\n",
       "      <th></th>\n",
       "    </tr>\n",
       "  </thead>\n",
       "  <tbody>\n",
       "    <tr>\n",
       "      <td>Victor T. Na'Allah</td>\n",
       "      <td>12000</td>\n",
       "      <td>Member</td>\n",
       "      <td>2500</td>\n",
       "      <td>Long Sleeve</td>\n",
       "    </tr>\n",
       "    <tr>\n",
       "      <td>Olajide Mattew</td>\n",
       "      <td>12000</td>\n",
       "      <td>Member</td>\n",
       "      <td>2500</td>\n",
       "      <td>Long Sleeve</td>\n",
       "    </tr>\n",
       "    <tr>\n",
       "      <td>Abel Modu Timothy</td>\n",
       "      <td>12000</td>\n",
       "      <td>Member</td>\n",
       "      <td>2500</td>\n",
       "      <td>Long Sleeve</td>\n",
       "    </tr>\n",
       "    <tr>\n",
       "      <td>Egwim Jones Udojuaku</td>\n",
       "      <td>12000</td>\n",
       "      <td>Member</td>\n",
       "      <td>2500</td>\n",
       "      <td>Long Sleeve</td>\n",
       "    </tr>\n",
       "    <tr>\n",
       "      <td>Nwachukwu Emmanuel Benedict</td>\n",
       "      <td>12000</td>\n",
       "      <td>Member</td>\n",
       "      <td>2500</td>\n",
       "      <td>Long Sleeve</td>\n",
       "    </tr>\n",
       "  </tbody>\n",
       "</table>\n",
       "</div>"
      ],
      "text/plain": [
       "                             Amount Paid  Status  T-Shirt Amount      T-shirt\n",
       "Name                                                                         \n",
       "Victor T. Na'Allah                 12000  Member            2500  Long Sleeve\n",
       "Olajide Mattew                     12000  Member            2500  Long Sleeve\n",
       "Abel Modu Timothy                  12000  Member            2500  Long Sleeve\n",
       "Egwim Jones Udojuaku               12000  Member            2500  Long Sleeve\n",
       "Nwachukwu Emmanuel Benedict        12000  Member            2500  Long Sleeve"
      ]
     },
     "execution_count": 77,
     "metadata": {},
     "output_type": "execute_result"
    }
   ],
   "source": [
    "extract = comb_dataset[comb_dataset.Status == \"Member\"]\n",
    "extract.head()"
   ]
  },
  {
   "cell_type": "markdown",
   "metadata": {},
   "source": [
    "### Try using the \"set_index()\" and \"reset_index()\" methods and have a feel of advanced techniques of data manipulation"
   ]
  },
  {
   "cell_type": "code",
   "execution_count": 78,
   "metadata": {},
   "outputs": [
    {
     "data": {
      "text/html": [
       "<div>\n",
       "<style scoped>\n",
       "    .dataframe tbody tr th:only-of-type {\n",
       "        vertical-align: middle;\n",
       "    }\n",
       "\n",
       "    .dataframe tbody tr th {\n",
       "        vertical-align: top;\n",
       "    }\n",
       "\n",
       "    .dataframe thead th {\n",
       "        text-align: right;\n",
       "    }\n",
       "</style>\n",
       "<table border=\"1\" class=\"dataframe\">\n",
       "  <thead>\n",
       "    <tr style=\"text-align: right;\">\n",
       "      <th></th>\n",
       "      <th>Name</th>\n",
       "      <th>Amount Paid</th>\n",
       "      <th>Status</th>\n",
       "      <th>T-Shirt Amount</th>\n",
       "      <th>T-shirt</th>\n",
       "    </tr>\n",
       "  </thead>\n",
       "  <tbody>\n",
       "    <tr>\n",
       "      <td>0</td>\n",
       "      <td>Victor T. Na'Allah</td>\n",
       "      <td>12000</td>\n",
       "      <td>Member</td>\n",
       "      <td>2500</td>\n",
       "      <td>Long Sleeve</td>\n",
       "    </tr>\n",
       "    <tr>\n",
       "      <td>1</td>\n",
       "      <td>Olajide Mattew</td>\n",
       "      <td>12000</td>\n",
       "      <td>Member</td>\n",
       "      <td>2500</td>\n",
       "      <td>Long Sleeve</td>\n",
       "    </tr>\n",
       "    <tr>\n",
       "      <td>2</td>\n",
       "      <td>Abel Modu Timothy</td>\n",
       "      <td>12000</td>\n",
       "      <td>Member</td>\n",
       "      <td>2500</td>\n",
       "      <td>Long Sleeve</td>\n",
       "    </tr>\n",
       "    <tr>\n",
       "      <td>3</td>\n",
       "      <td>Egwim Jones Udojuaku</td>\n",
       "      <td>12000</td>\n",
       "      <td>Member</td>\n",
       "      <td>2500</td>\n",
       "      <td>Long Sleeve</td>\n",
       "    </tr>\n",
       "    <tr>\n",
       "      <td>4</td>\n",
       "      <td>Nwachukwu Emmanuel Benedict</td>\n",
       "      <td>12000</td>\n",
       "      <td>Member</td>\n",
       "      <td>2500</td>\n",
       "      <td>Long Sleeve</td>\n",
       "    </tr>\n",
       "  </tbody>\n",
       "</table>\n",
       "</div>"
      ],
      "text/plain": [
       "                          Name  Amount Paid  Status  T-Shirt Amount  \\\n",
       "0           Victor T. Na'Allah        12000  Member            2500   \n",
       "1               Olajide Mattew        12000  Member            2500   \n",
       "2            Abel Modu Timothy        12000  Member            2500   \n",
       "3         Egwim Jones Udojuaku        12000  Member            2500   \n",
       "4  Nwachukwu Emmanuel Benedict        12000  Member            2500   \n",
       "\n",
       "       T-shirt  \n",
       "0  Long Sleeve  \n",
       "1  Long Sleeve  \n",
       "2  Long Sleeve  \n",
       "3  Long Sleeve  \n",
       "4  Long Sleeve  "
      ]
     },
     "execution_count": 78,
     "metadata": {},
     "output_type": "execute_result"
    }
   ],
   "source": [
    "extract1 = extract.reset_index()\n",
    "extract1.head()"
   ]
  },
  {
   "cell_type": "code",
   "execution_count": 79,
   "metadata": {},
   "outputs": [
    {
     "data": {
      "text/html": [
       "<div>\n",
       "<style scoped>\n",
       "    .dataframe tbody tr th:only-of-type {\n",
       "        vertical-align: middle;\n",
       "    }\n",
       "\n",
       "    .dataframe tbody tr th {\n",
       "        vertical-align: top;\n",
       "    }\n",
       "\n",
       "    .dataframe thead th {\n",
       "        text-align: right;\n",
       "    }\n",
       "</style>\n",
       "<table border=\"1\" class=\"dataframe\">\n",
       "  <thead>\n",
       "    <tr style=\"text-align: right;\">\n",
       "      <th></th>\n",
       "      <th></th>\n",
       "      <th>Amount Paid</th>\n",
       "      <th>Status</th>\n",
       "      <th>T-Shirt Amount</th>\n",
       "    </tr>\n",
       "    <tr>\n",
       "      <th>Name</th>\n",
       "      <th>T-shirt</th>\n",
       "      <th></th>\n",
       "      <th></th>\n",
       "      <th></th>\n",
       "    </tr>\n",
       "  </thead>\n",
       "  <tbody>\n",
       "    <tr>\n",
       "      <td>Victor T. Na'Allah</td>\n",
       "      <td>Long Sleeve</td>\n",
       "      <td>12000</td>\n",
       "      <td>Member</td>\n",
       "      <td>2500</td>\n",
       "    </tr>\n",
       "    <tr>\n",
       "      <td>Olajide Mattew</td>\n",
       "      <td>Long Sleeve</td>\n",
       "      <td>12000</td>\n",
       "      <td>Member</td>\n",
       "      <td>2500</td>\n",
       "    </tr>\n",
       "    <tr>\n",
       "      <td>Abel Modu Timothy</td>\n",
       "      <td>Long Sleeve</td>\n",
       "      <td>12000</td>\n",
       "      <td>Member</td>\n",
       "      <td>2500</td>\n",
       "    </tr>\n",
       "    <tr>\n",
       "      <td>Egwim Jones Udojuaku</td>\n",
       "      <td>Long Sleeve</td>\n",
       "      <td>12000</td>\n",
       "      <td>Member</td>\n",
       "      <td>2500</td>\n",
       "    </tr>\n",
       "    <tr>\n",
       "      <td>Nwachukwu Emmanuel Benedict</td>\n",
       "      <td>Long Sleeve</td>\n",
       "      <td>12000</td>\n",
       "      <td>Member</td>\n",
       "      <td>2500</td>\n",
       "    </tr>\n",
       "  </tbody>\n",
       "</table>\n",
       "</div>"
      ],
      "text/plain": [
       "                                         Amount Paid  Status  T-Shirt Amount\n",
       "Name                        T-shirt                                         \n",
       "Victor T. Na'Allah          Long Sleeve        12000  Member            2500\n",
       "Olajide Mattew              Long Sleeve        12000  Member            2500\n",
       "Abel Modu Timothy           Long Sleeve        12000  Member            2500\n",
       "Egwim Jones Udojuaku        Long Sleeve        12000  Member            2500\n",
       "Nwachukwu Emmanuel Benedict Long Sleeve        12000  Member            2500"
      ]
     },
     "execution_count": 79,
     "metadata": {},
     "output_type": "execute_result"
    }
   ],
   "source": [
    "extract11 = extract1.set_index([\"Name\",\"T-shirt\"])\n",
    "extract11.head()"
   ]
  },
  {
   "cell_type": "markdown",
   "metadata": {},
   "source": [
    "### This are just a few of the exciting and amazing this the Python libraries can do to help you achieve your designated tasks. \n",
    "\n",
    "### Remember, the best way to learn is by doing, so\n",
    "\n",
    "# Practice ! Practice !! Practice !!!"
   ]
  },
  {
   "cell_type": "markdown",
   "metadata": {},
   "source": [
    "### I wish you a beautiful ride on this exciting journey.\n",
    "\n",
    "# Happy Learning"
   ]
  },
  {
   "cell_type": "code",
   "execution_count": null,
   "metadata": {},
   "outputs": [],
   "source": []
  },
  {
   "cell_type": "code",
   "execution_count": null,
   "metadata": {},
   "outputs": [],
   "source": []
  },
  {
   "cell_type": "code",
   "execution_count": null,
   "metadata": {},
   "outputs": [],
   "source": []
  },
  {
   "cell_type": "code",
   "execution_count": null,
   "metadata": {},
   "outputs": [],
   "source": []
  },
  {
   "cell_type": "code",
   "execution_count": null,
   "metadata": {},
   "outputs": [],
   "source": []
  },
  {
   "cell_type": "code",
   "execution_count": null,
   "metadata": {},
   "outputs": [],
   "source": []
  },
  {
   "cell_type": "code",
   "execution_count": null,
   "metadata": {},
   "outputs": [],
   "source": []
  },
  {
   "cell_type": "code",
   "execution_count": null,
   "metadata": {},
   "outputs": [],
   "source": []
  },
  {
   "cell_type": "code",
   "execution_count": null,
   "metadata": {},
   "outputs": [],
   "source": []
  },
  {
   "cell_type": "code",
   "execution_count": null,
   "metadata": {},
   "outputs": [],
   "source": []
  }
 ],
 "metadata": {
  "kernelspec": {
   "display_name": "Python 3",
   "language": "python",
   "name": "python3"
  },
  "language_info": {
   "codemirror_mode": {
    "name": "ipython",
    "version": 3
   },
   "file_extension": ".py",
   "mimetype": "text/x-python",
   "name": "python",
   "nbconvert_exporter": "python",
   "pygments_lexer": "ipython3",
   "version": "3.7.2"
  }
 },
 "nbformat": 4,
 "nbformat_minor": 4
}
